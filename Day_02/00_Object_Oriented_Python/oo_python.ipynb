{
 "cells": [
  {
   "cell_type": "markdown",
   "metadata": {
    "slideshow": {
     "slide_type": "slide"
    }
   },
   "source": [
    "<img src=\"200px-NASA_logo.png\">\n",
    "# Object-Oriented Python\n",
    "\n",
    "####    -- or --\n",
    "\n",
    "## You Too Can Save the World!\n",
    "#### ... and maybe create some objects along the way\n",
    "\n",
    "<hr>\n",
    "\n",
    "Steve Waterbury  \n",
    "Goddard Python Bootcamp 2015  \n",
    "June 12, 2015"
   ]
  },
  {
   "cell_type": "markdown",
   "metadata": {
    "slideshow": {
     "slide_type": "slide"
    }
   },
   "source": [
    "# What's an Object?\n",
    "\n",
    "* An ***object*** is created by *instantiating* a ***class***\n",
    "* A ***class*** is created using Python's ***class statement*** (usually)\n",
    "* In general, any number of objects can be created from a single class ...\n",
    "* ... unless the class is given some [special magic][1] to make it a *\"Singleton\"*\n",
    "[1]: http://c2.com/cgi/wiki?PythonSingleton"
   ]
  },
  {
   "cell_type": "markdown",
   "metadata": {
    "slideshow": {
     "slide_type": "slide"
    }
   },
   "source": [
    "# Ok ... so what's a Class?\n",
    "\n",
    "### A \"class\" is a code structure that contains ...\n",
    "  1. ***Data*** in the form of ***Fields***, a.k.a. ***\"attributes\"***, and\n",
    "  2. ***Procedures***, a.k.a. ***\"methods\"***\n",
    "  \n",
    "### One way to think of these is:\n",
    "  1. An object's ***attributes*** represent its ***state***\n",
    "  2. Its ***methods*** represent its ***behavior***\n",
    "  \n",
    "### Physicists should like this - it's a nice *duality* ... ;)"
   ]
  },
  {
   "cell_type": "markdown",
   "metadata": {
    "slideshow": {
     "slide_type": "slide"
    }
   },
   "source": [
    "# Have we seen any examples of Objects yet?\n",
    "\n",
    "* Yes! In Python, ***EVERYTHING*** is an object!\n",
    "* Wow.  :)\n",
    "* Ok, so why would I need to create my *OWN* classes and objects?\n",
    "* Answer:  you don't ... unless you do ...\n"
   ]
  },
  {
   "cell_type": "markdown",
   "metadata": {
    "slideshow": {
     "slide_type": "slide"
    }
   },
   "source": [
    "# Python programs can have different styles\n",
    "* Simple, short scripts can just be straight-line code -- **Do this one thing! BAM!**\n",
    "* A somewhat longer task might have a recurring sub-task: **a function**\n",
    "* If more **functions** appear, they might be grouped into one file (a **module**)\n",
    "* **Classes** come in when higher levels of structure are needed ..."
   ]
  },
  {
   "cell_type": "markdown",
   "metadata": {
    "slideshow": {
     "slide_type": "slide"
    }
   },
   "source": [
    "# When should I write my own classes?\n",
    "* When you have some functions that are passing one or more parameters around\n",
    "* When you have some functions that need to access the same \"state\" information\n",
    "* When you are developing a Graphical User Interface (GUI)\n",
    "* When you need to represent and process some highly structured data, e.g.:\n",
    "  - a document or web page\n",
    "  - data about a real-world \"thing\" (either man-made or natural)"
   ]
  },
  {
   "cell_type": "markdown",
   "metadata": {
    "slideshow": {
     "slide_type": "slide"
    }
   },
   "source": [
    "# Now for a story ...\n",
    "* In which our hero embarks on an entrepreneurial adventure ...\n",
    "* Following the \"Lean Startup Methodology\" ... and in which\n",
    "* You learn the **Python's Class Development Toolkit**,\n",
    "* And see how users will exercise your classes in unexpected ways ..."
   ]
  },
  {
   "cell_type": "markdown",
   "metadata": {
    "slideshow": {
     "slide_type": "slide"
    }
   },
   "source": [
    "# The Graduation Dilemma\n",
    "\n",
    "* Get a haircut and get a real job\n",
    "\n",
    "-- or --\n",
    "\n",
    "* Be CEO of your own startup\n",
    "\n",
    "... I say **\"Go for it!\"**"
   ]
  },
  {
   "cell_type": "markdown",
   "metadata": {
    "slideshow": {
     "slide_type": "slide"
    }
   },
   "source": [
    "# Company Name and Elevator Pitch\n",
    "\n",
    "    \"\"\"Circuitous LLC - \n",
    "        An advanced circle analytics company.\n",
    "    \"\"\""
   ]
  },
  {
   "cell_type": "markdown",
   "metadata": {
    "slideshow": {
     "slide_type": "slide"
    }
   },
   "source": [
    "# Start coding:  a Circle class\n",
    "\n",
    "    class Circle:\n",
    "        \"\"\"An advanced circle analytic toolkit\"\"\"\n",
    "\n",
    "\n",
    "Hmmm ... is that really advanced technology?"
   ]
  },
  {
   "cell_type": "markdown",
   "metadata": {
    "slideshow": {
     "slide_type": "slide"
    }
   },
   "source": [
    "# New style classes\n",
    "\n",
    "    class Circle(object):           # new-style class\n",
    "        \"\"\"An advanced circle analytic toolkit\"\"\"\n",
    "\n",
    "\n",
    "Yes, this is advanced technology!"
   ]
  },
  {
   "cell_type": "markdown",
   "metadata": {
    "slideshow": {
     "slide_type": "slide"
    }
   },
   "source": [
    "# Add class variable(s) for shared data\n",
    "\n",
    "    class Circle(object):           # new-style class\n",
    "        \"\"\"An advanced circle analytic toolkit\"\"\"\n",
    "        \n",
    "        version = \"0.1\"\n",
    "        spam = 0.5\n",
    "\n",
    "\n",
    "Class variables are the same for all instances.  \n",
    "(***But*** they can be overridden by instance variables.)"
   ]
  },
  {
   "cell_type": "markdown",
   "metadata": {
    "slideshow": {
     "slide_type": "slide"
    }
   },
   "source": [
    "# Use instance variables for instance-specific data\n",
    "\n",
    "    class Circle(object):           # new-style class\n",
    "        \"\"\"An advanced circle analytic toolkit\"\"\"\n",
    "        \n",
    "        version = \"0.1\"\n",
    "        spam = 0.5\n",
    "        \n",
    "        def __init__(self, radius):\n",
    "            self.radius = radius\n",
    "\n",
    "\n",
    "`__init__` isn't a constructor.  Its job is to initialize the instance variables."
   ]
  },
  {
   "cell_type": "markdown",
   "metadata": {
    "slideshow": {
     "slide_type": "slide"
    }
   },
   "source": [
    "# Regular method\n",
    "\n",
    "    class Circle(object):           # new-style class\n",
    "        \"\"\"An advanced circle analytic toolkit\"\"\"\n",
    "        \n",
    "        version = \"0.1\"\n",
    "        spam = 0.5\n",
    "        \n",
    "        def __init__(self, radius):\n",
    "            self.radius = radius\n",
    "        \n",
    "        def area(self):\n",
    "            \"Perform quadrature on this circle.\"\n",
    "            return 3.14 * self.radius ** 2\n",
    "\n",
    "Regular methods have \"self\" as their first argument.  \n",
    "Hmmm, what about the '3.14'?"
   ]
  },
  {
   "cell_type": "markdown",
   "metadata": {
    "slideshow": {
     "slide_type": "slide"
    }
   },
   "source": [
    "# Modules for code reuse\n",
    "\n",
    "    import math\n",
    "\n",
    "    class Circle(object):           # new-style class\n",
    "        \"\"\"An advanced circle analytic toolkit\"\"\"\n",
    "        \n",
    "        version = \"0.1\"\n",
    "        spam = 0.5\n",
    "        \n",
    "        def __init__(self, radius):\n",
    "            self.radius = radius\n",
    "        \n",
    "        def area(self):\n",
    "            \"Perform quadrature on this circle.\"\n",
    "            return math.pi * self.radius ** 2\n"
   ]
  },
  {
   "cell_type": "markdown",
   "metadata": {
    "slideshow": {
     "slide_type": "slide"
    }
   },
   "source": [
    "# We have \"Minimum Viable Product\" - ship it!\n",
    "\n",
    "    # Tutorial\n",
    "    from circle import Circle\n",
    "    \n",
    "    print 'Circuitous version', Circle.version\n",
    "    c = Circle(10)\n",
    "    print 'A circle of radius', c.radius\n",
    "    print 'has an area of', c.area()\n",
    "    print"
   ]
  },
  {
   "cell_type": "markdown",
   "metadata": {
    "slideshow": {
     "slide_type": "slide"
    }
   },
   "source": [
    "# First customer:  Academia\n",
    "\n",
    "    from random import random, seed\n",
    "    from circle import Circle\n",
    "    \n",
    "    seed(8675309)\n",
    "    print 'Using Circuitous(tm) version', Circle.version\n",
    "    n = 10\n",
    "    circles = [Circle(random()) for i in xrange(n)]\n",
    "    print 'The average area of', n, 'random circles'\n",
    "    avg = sum([c.area() for c in circles]) / n\n",
    "    print 'is %1.f' % avg\n",
    "    print"
   ]
  },
  {
   "cell_type": "markdown",
   "metadata": {
    "slideshow": {
     "slide_type": "slide"
    }
   },
   "source": [
    "# Next customer, a rubber sheet company, wants a perimeter method\n",
    "\n",
    "    import math\n",
    "\n",
    "    class Circle(object):           # new-style class\n",
    "        \"\"\"An advanced circle analytic toolkit\"\"\"\n",
    "        \n",
    "        version = \"0.1\"\n",
    "        spam = 0.5\n",
    "        \n",
    "        def __init__(self, radius):\n",
    "            self.radius = radius\n",
    "        \n",
    "        def area(self):\n",
    "            \"Perform quadrature on this circle.\"\n",
    "            return math.pi * self.radius ** 2\n",
    "        \n",
    "        def perimeter(self):\n",
    "            \"Find the circle's perimeter.\"\n",
    "            return 2.0 * math.pi * self.radius\n"
   ]
  },
  {
   "cell_type": "markdown",
   "metadata": {
    "slideshow": {
     "slide_type": "slide"
    }
   },
   "source": [
    "# The rubber sheet company's application\n",
    "\n",
    "    from circle import Circle\n",
    "    \n",
    "    cuts = [0.1, 0.7, 0.8]\n",
    "    circles = [Circle(r) for r in cuts]\n",
    "    for c in circles:\n",
    "        print 'A circlet with a radius of', c.radius\n",
    "        print 'has a perimeter of', c.perimeter()\n",
    "        print 'and a cold area of', c.area()\n",
    "        c.radius *= 1.1\n",
    "        print 'and a warm area of', c.area()\n",
    "        print\n",
    "        \n",
    "Notice what happens to the radius attribute here!"
   ]
  },
  {
   "cell_type": "markdown",
   "metadata": {
    "slideshow": {
     "slide_type": "slide"
    }
   },
   "source": [
    "# Third customer:  a national tire chain\n",
    "\n",
    "    from circle import Circle\n",
    "    \n",
    "    class Tire(Circle):\n",
    "        \"Tires are circles with a corrected perimeter.\"\n",
    "        \n",
    "        def perimeter(self):\n",
    "            \"Circumference corrected for the tire width.\"\n",
    "            return Circle.perimeter(self) * 1.25\n",
    "    \n",
    "    t = Tire(22)\n",
    "    print 'A tire of radius', t.radius\n",
    "    print 'has an inner area of', t.area()\n",
    "    print 'and an odometer corrected perimeter of', \n",
    "    print t.perimeter()\n",
    "    print"
   ]
  },
  {
   "cell_type": "markdown",
   "metadata": {
    "slideshow": {
     "slide_type": "slide"
    }
   },
   "source": [
    "# Next customer:   a national graphics company\n",
    "\n",
    "    from circle import Circle\n",
    "    \n",
    "    bbd = 25.1\n",
    "    c = Circle(bbd_to_radius(bbd))\n",
    "    print 'A circle with a bbd of 25.1'\n",
    "    print 'has a radius of', c.radius\n",
    "    print 'and an area of', c.area()\n",
    "    print\n",
    "    \n",
    "\n",
    "Their comment:  the API is awkward - a converter function is needed.  \n",
    "Perhaps change the constructor?"
   ]
  },
  {
   "cell_type": "markdown",
   "metadata": {
    "slideshow": {
     "slide_type": "slide"
    }
   },
   "source": [
    "# Need alternative constructors!\n",
    "\n",
    "    from datetime import datetime\n",
    "    print datetime(2013, 3, 16)\n",
    "    print datetime.fromtimestamp(136338616)\n",
    "    print datetime.fromordinal(734000)\n",
    "    print datetime.now()\n",
    "\n",
    "Remember the examples of alternative constructors for pandas.DataFrame? Yep!"
   ]
  }
 ],
 "metadata": {
  "celltoolbar": "Slideshow",
  "kernelspec": {
   "display_name": "Python 2",
   "language": "python",
   "name": "python2"
  },
  "language_info": {
   "codemirror_mode": {
    "name": "ipython",
    "version": 2
   },
   "file_extension": ".py",
   "mimetype": "text/x-python",
   "name": "python",
   "nbconvert_exporter": "python",
   "pygments_lexer": "ipython2",
   "version": "2.7.11"
  }
 },
 "nbformat": 4,
 "nbformat_minor": 0
}
