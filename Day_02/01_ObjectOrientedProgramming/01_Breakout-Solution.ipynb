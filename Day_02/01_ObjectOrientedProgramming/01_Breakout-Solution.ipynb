{
 "cells": [
  {
   "cell_type": "markdown",
   "metadata": {},
   "source": [
    "# Object Oriented Programming"
   ]
  },
  {
   "cell_type": "markdown",
   "metadata": {},
   "source": [
    "# Breakout Exercise\n",
    "\n",
    "Add a method for fleas.  Does your dog or cat have fleas?  Add a polymorphic method to the Animal example above for play -- Dog's fetch, and Cat's pounce."
   ]
  },
  {
   "cell_type": "code",
   "execution_count": null,
   "metadata": {
    "collapsed": false
   },
   "outputs": [],
   "source": [
    "class Animal:\n",
    "   def __init__(self, name=''):\n",
    "      self.name = name\n",
    "      self.has_fleas = False\n",
    "\n",
    "   def talk(self):\n",
    "      pass\n",
    "    \n",
    "   def play(self):\n",
    "      pass\n",
    "\n",
    "class Cat(Animal):\n",
    "   def talk(self):\n",
    "      print \"Meow!\"\n",
    "        \n",
    "   def play(self):\n",
    "      print \"Pounce!\"\n",
    "\n",
    "\n",
    "class Dog(Animal):\n",
    "   def talk(self):\n",
    "      print \"Woof!\"\n",
    "\n",
    "   def play(self):\n",
    "      print \"Fetch!\"\n",
    "\n",
    "c = Cat(\"Missy\")\n",
    "c.talk()\n",
    "print c.has_fleas\n",
    "\n",
    "d = Dog(\"Rocky\")\n",
    "d.talk()\n",
    "d.has_fleas=True\n",
    "print d.has_fleas"
   ]
  },
  {
   "cell_type": "code",
   "execution_count": null,
   "metadata": {
    "collapsed": true
   },
   "outputs": [],
   "source": []
  }
 ],
 "metadata": {
  "kernelspec": {
   "display_name": "Python 2",
   "language": "python",
   "name": "python2"
  },
  "language_info": {
   "codemirror_mode": {
    "name": "ipython",
    "version": 2
   },
   "file_extension": ".py",
   "mimetype": "text/x-python",
   "name": "python",
   "nbconvert_exporter": "python",
   "pygments_lexer": "ipython2",
   "version": "2.7.11"
  }
 },
 "nbformat": 4,
 "nbformat_minor": 0
}
