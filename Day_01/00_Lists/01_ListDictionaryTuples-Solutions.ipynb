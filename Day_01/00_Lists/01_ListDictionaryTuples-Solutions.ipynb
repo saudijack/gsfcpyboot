{
 "cells": [
  {
   "cell_type": "markdown",
   "metadata": {},
   "source": [
    "# List - Dictionary - Tuples: Solutions"
   ]
  },
  {
   "cell_type": "markdown",
   "metadata": {},
   "source": [
    "## <font color='red'>List</font>"
   ]
  },
  {
   "cell_type": "markdown",
   "metadata": {},
   "source": [
    "### Problem 1"
   ]
  },
  {
   "cell_type": "markdown",
   "metadata": {},
   "source": [
    "Consider the list:"
   ]
  },
  {
   "cell_type": "code",
   "execution_count": null,
   "metadata": {
    "collapsed": false
   },
   "outputs": [],
   "source": [
    "oldList = [[1,2,3],[4,5,6]]"
   ]
  },
  {
   "cell_type": "markdown",
   "metadata": {},
   "source": [
    "Use operations on lists to manipulate oldList and create the list [[1,2],[4,6]]"
   ]
  },
  {
   "cell_type": "markdown",
   "metadata": {},
   "source": [
    "### Solution 1"
   ]
  },
  {
   "cell_type": "code",
   "execution_count": null,
   "metadata": {
    "collapsed": false
   },
   "outputs": [],
   "source": [
    "a = oldList[0]\n",
    "print a\n",
    "a.remove(3)\n",
    "b = oldList[1]\n",
    "print b\n",
    "b.remove(5)\n",
    "newList = []\n",
    "newList.append(a)\n",
    "print newList\n",
    "newList = newList.append(b)\n",
    "print newList"
   ]
  },
  {
   "cell_type": "markdown",
   "metadata": {},
   "source": [
    "## <font color='red'>Tuples</font>"
   ]
  },
  {
   "cell_type": "markdown",
   "metadata": {},
   "source": [
    "### Problem 2"
   ]
  },
  {
   "cell_type": "markdown",
   "metadata": {},
   "source": [
    "Consider the tuple:"
   ]
  },
  {
   "cell_type": "code",
   "execution_count": null,
   "metadata": {
    "collapsed": false
   },
   "outputs": [],
   "source": [
    "julia = (\"Julia\", \"Roberts\", 1967, \"Duplicity\", 2009, \"Actress\", \"Atlanta, Georgia\")"
   ]
  },
  {
   "cell_type": "markdown",
   "metadata": {},
   "source": [
    "Use tuple operations to manipulate the above tuple to get a new tuple:"
   ]
  },
  {
   "cell_type": "code",
   "execution_count": null,
   "metadata": {
    "collapsed": false
   },
   "outputs": [],
   "source": [
    "(\"Julia\", \"Roberts\", 1967, \"Eat Pray Love\", 2010, \"Actress\", \"Atlanta, Georgia\")"
   ]
  },
  {
   "cell_type": "markdown",
   "metadata": {},
   "source": [
    "### Solution 2"
   ]
  },
  {
   "cell_type": "code",
   "execution_count": null,
   "metadata": {
    "collapsed": false
   },
   "outputs": [],
   "source": [
    "julia = julia[:3] + (\"Eat Pray Love\", 2010) + julia[5:]\n",
    "print julia"
   ]
  },
  {
   "cell_type": "markdown",
   "metadata": {},
   "source": [
    "## <font color='red'>Dictionary</font>"
   ]
  },
  {
   "cell_type": "markdown",
   "metadata": {},
   "source": [
    "### Problem 3"
   ]
  },
  {
   "cell_type": "markdown",
   "metadata": {},
   "source": [
    "Consider the following dictionary"
   ]
  },
  {
   "cell_type": "code",
   "execution_count": null,
   "metadata": {
    "collapsed": false
   },
   "outputs": [],
   "source": [
    "ab = {'met_opt': '3',\n",
    "      'met_grid_type': 'A',\n",
    "      'do_timinterp_met': 'F',\n",
    "      'mrnum_in': '1',\n",
    "      'met_filnam_list': 'jan2004.list',\n",
    "      'do_read_met_list': 'T',\n",
    "      'do_cycle_met': 'F',\n",
    "      'gwet_opt': '1',\n",
    "      'mdt': '10800.0'\n",
    "     }"
   ]
  },
  {
   "cell_type": "markdown",
   "metadata": {},
   "source": [
    "<UL>\n",
    "<LI> Print the value associated with the key 'mdt'\n",
    "<LI> Print the length of the dictionary\n",
    "<LI> Add to the dictionary another key 'met_infile_num' with the corresponding value '16'\n",
    "<LI> Print the length of the dictionary\n",
    "<LI> Write a loop to only print all the keys\n",
    "<LI> Wrute a loop to only print all the values\n",
    "<LI> Write a loop to print on the same line each key and its correcponding value\n",
    "</UL>"
   ]
  },
  {
   "cell_type": "markdown",
   "metadata": {},
   "source": [
    "### Solution 3"
   ]
  },
  {
   "cell_type": "code",
   "execution_count": null,
   "metadata": {
    "collapsed": false
   },
   "outputs": [],
   "source": [
    "print 'mdt = ', ab['mdt']\n",
    "\n",
    "print len(ab)\n",
    "\n",
    "ab['met_infile_num'] = '16'\n",
    "\n",
    "print len(ab)\n",
    "\n",
    "# Print the keys\n",
    "for key in ab:\n",
    "    print key\n",
    "\n",
    "for key in ab.iterkeys():\n",
    "    print key\n",
    "\n",
    "# Print the values\n",
    "for val in ab.itervalues():\n",
    "    print val\n",
    "\n",
    "# Print key & value\n",
    "for key, val in ab.items():\n",
    "    print key, val\n",
    "    \n",
    "for key in d:\n",
    "    print key, d[key]"
   ]
  }
 ],
 "metadata": {
  "kernelspec": {
   "display_name": "Python 2",
   "language": "python",
   "name": "python2"
  },
  "language_info": {
   "codemirror_mode": {
    "name": "ipython",
    "version": 2
   },
   "file_extension": ".py",
   "mimetype": "text/x-python",
   "name": "python",
   "nbconvert_exporter": "python",
   "pygments_lexer": "ipython2",
   "version": "2.7.11"
  }
 },
 "nbformat": 4,
 "nbformat_minor": 0
}
