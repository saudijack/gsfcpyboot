{
 "cells": [
  {
   "cell_type": "markdown",
   "metadata": {
    "collapsed": true
   },
   "source": [
    "## Breakout session"
   ]
  },
  {
   "cell_type": "markdown",
   "metadata": {},
   "source": [
    "We want to reproduce the Global Land-Ocean Temperature index plot below (available at this <A HREF=\"http://data.giss.nasa.gov/gistemp/graphs_v3/\"> GISS website</A>). Download the data <A HREF=\"http://data.giss.nasa.gov/gistemp/graphs_v3/Fig.A2.txt\">this link</A> and recreate the plot **as closely as you can** (don't worry about the two green points or matching the font). We've broken up this problem into steps to get you started. Feel free to follow them as you wish, or be a lone wolf and solve this on your own.\n",
    "\n",
    "<img src=\"http://data.giss.nasa.gov/gistemp/graphs_v3/Fig.A2.gif\">\n",
    "\n",
    "\n",
    "1. Save the data as a text file, and then read the data into a numpy array. You'll have to deal with the extra lines at the top and bottom of the file, as well as the missing values (the asterixes) that appear. There are multiple ways to solve these problems; do what works for you. If you get stuck, remember that we talked about slicing arrays at the beginning of this lecture.\n",
    "2. Plot \"Annual Mean\" as a set of black squares connected by a thick black line. Try Googling something about \"matplotlib square markers\". Don't forget to give it a label so it can go in the legend later.\n",
    "3. Plot \"5-Year Running Mean\" as a thick red line. Don't forget the label.\n",
    "4. Set the x and y ranges of your plot so that they match the ones in the plot we are trying to recreate.\n",
    "5. Add a grid. The default grid that shows up is fine; don't worry about making it match *exactly*.\n",
    "6. Label the y axis. Don't worry about the \"degree\" symbol for now.\n",
    "7. Add the title.\n",
    "8. Add the legend (default settings are fine).\n",
    "\n",
    "BONUS TASKS:\n",
    "1. Notice how, in the the plot above, there are labels at every 20 years along the x axis but grid marks at every ten (and similar for the y axis)? Figure out how to recreate this.\n",
    "2. On that note, match the formatting they have for the y axis ticks.\n",
    "3. Make all the font sizes match (yours are probably smaller than you'd like).\n",
    "4. Add in the \"degree\" symbol for the y axis label. Hint: LaTeX or unicode.\n",
    "5. Move the legend to the right place. Remove the box (the \"frame\") that surrounds the legend. Notice how your legend has a line with *two* markers for \"Annual mean\" and their legend has a line with only one marker? Match that.\n",
    "6. Move the title up a little bit so the spacing better matches the plot above."
   ]
  },
  {
   "cell_type": "code",
   "execution_count": null,
   "metadata": {
    "collapsed": true
   },
   "outputs": [],
   "source": []
  }
 ],
 "metadata": {
  "kernelspec": {
   "display_name": "Python 2",
   "language": "python",
   "name": "python2"
  },
  "language_info": {
   "codemirror_mode": {
    "name": "ipython",
    "version": 2
   },
   "file_extension": ".py",
   "mimetype": "text/x-python",
   "name": "python",
   "nbconvert_exporter": "python",
   "pygments_lexer": "ipython2",
   "version": "2.7.11"
  }
 },
 "nbformat": 4,
 "nbformat_minor": 0
}
