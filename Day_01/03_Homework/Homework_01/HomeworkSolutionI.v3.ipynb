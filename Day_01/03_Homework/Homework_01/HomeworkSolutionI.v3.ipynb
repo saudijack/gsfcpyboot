{
 "cells": [
  {
   "cell_type": "markdown",
   "metadata": {},
   "source": [
    "**0. Import & parse CSV data**"
   ]
  },
  {
   "cell_type": "code",
   "execution_count": 8,
   "metadata": {
    "collapsed": false
   },
   "outputs": [],
   "source": [
    "%matplotlib inline"
   ]
  },
  {
   "cell_type": "code",
   "execution_count": 3,
   "metadata": {
    "collapsed": true
   },
   "outputs": [],
   "source": [
    "import numpy as np\n",
    "from matplotlib.pylab import plot, legend\n",
    "import pandas as pd"
   ]
  },
  {
   "cell_type": "code",
   "execution_count": 16,
   "metadata": {
    "collapsed": true
   },
   "outputs": [],
   "source": [
    "# read trends.csv with pandas. The first line is the header: \n",
    "## week_start,week_end,textbooks,spring_break,kayak,skiing,global_warming\n",
    "## 2004-01-04,2004-01-10,65,36,17,85,13\n",
    "## 2004-01-11,2004-01-17,79,40,18,84,18\n",
    "\n",
    "\n",
    "# Giving it index_col=0 uses the week_start as the index \n",
    "# and parse_dates=True parses them as a date.\n",
    "df = pd.read_csv('trends.csv',index_col=0,parse_dates=True)"
   ]
  },
  {
   "cell_type": "markdown",
   "metadata": {},
   "source": [
    "Let's take a look at the first few entries of the pandas dataframe to see how it looks:"
   ]
  },
  {
   "cell_type": "code",
   "execution_count": 24,
   "metadata": {
    "collapsed": false
   },
   "outputs": [
    {
     "data": {
      "text/html": [
       "<div style=\"max-height:1000px;max-width:1500px;overflow:auto;\">\n",
       "<table border=\"1\" class=\"dataframe\">\n",
       "  <thead>\n",
       "    <tr style=\"text-align: right;\">\n",
       "      <th></th>\n",
       "      <th>week_end</th>\n",
       "      <th>textbooks</th>\n",
       "      <th>spring_break</th>\n",
       "      <th>kayak</th>\n",
       "      <th>skiing</th>\n",
       "      <th>global_warming</th>\n",
       "    </tr>\n",
       "    <tr>\n",
       "      <th>week_start</th>\n",
       "      <th></th>\n",
       "      <th></th>\n",
       "      <th></th>\n",
       "      <th></th>\n",
       "      <th></th>\n",
       "      <th></th>\n",
       "    </tr>\n",
       "  </thead>\n",
       "  <tbody>\n",
       "    <tr>\n",
       "      <th>2004-01-04</th>\n",
       "      <td> 2004-01-10</td>\n",
       "      <td> 65</td>\n",
       "      <td> 36</td>\n",
       "      <td> 17</td>\n",
       "      <td> 85</td>\n",
       "      <td> 13</td>\n",
       "    </tr>\n",
       "    <tr>\n",
       "      <th>2004-01-11</th>\n",
       "      <td> 2004-01-17</td>\n",
       "      <td> 79</td>\n",
       "      <td> 40</td>\n",
       "      <td> 18</td>\n",
       "      <td> 84</td>\n",
       "      <td> 18</td>\n",
       "    </tr>\n",
       "    <tr>\n",
       "      <th>2004-01-18</th>\n",
       "      <td> 2004-01-24</td>\n",
       "      <td> 56</td>\n",
       "      <td> 44</td>\n",
       "      <td> 18</td>\n",
       "      <td> 77</td>\n",
       "      <td> 14</td>\n",
       "    </tr>\n",
       "    <tr>\n",
       "      <th>2004-01-25</th>\n",
       "      <td> 2004-01-31</td>\n",
       "      <td> 39</td>\n",
       "      <td> 43</td>\n",
       "      <td> 18</td>\n",
       "      <td> 75</td>\n",
       "      <td> 15</td>\n",
       "    </tr>\n",
       "    <tr>\n",
       "      <th>2004-02-01</th>\n",
       "      <td> 2004-02-07</td>\n",
       "      <td> 28</td>\n",
       "      <td> 41</td>\n",
       "      <td> 16</td>\n",
       "      <td> 63</td>\n",
       "      <td> 16</td>\n",
       "    </tr>\n",
       "  </tbody>\n",
       "</table>\n",
       "</div>"
      ],
      "text/plain": [
       "              week_end  textbooks  spring_break  kayak  skiing  global_warming\n",
       "week_start                                                                    \n",
       "2004-01-04  2004-01-10         65            36     17      85              13\n",
       "2004-01-11  2004-01-17         79            40     18      84              18\n",
       "2004-01-18  2004-01-24         56            44     18      77              14\n",
       "2004-01-25  2004-01-31         39            43     18      75              15\n",
       "2004-02-01  2004-02-07         28            41     16      63              16"
      ]
     },
     "execution_count": 24,
     "metadata": {},
     "output_type": "execute_result"
    }
   ],
   "source": [
    "df.head()"
   ]
  },
  {
   "cell_type": "markdown",
   "metadata": {},
   "source": [
    "NB: In the table above it looks like the first row is \"week_start\" followed by a bunch of blank entries, but in fact this is just showing that the label for the indices is called \"week_start\". We can grab the first row of the data frame to verify this:"
   ]
  },
  {
   "cell_type": "code",
   "execution_count": 22,
   "metadata": {
    "collapsed": false
   },
   "outputs": [
    {
     "name": "stdout",
     "output_type": "stream",
     "text": [
      "week_end          2004-01-10\n",
      "textbooks                 65\n",
      "spring_break              36\n",
      "kayak                     17\n",
      "skiing                    85\n",
      "global_warming            13\n",
      "Name: 2004-01-04 00:00:00, dtype: object\n"
     ]
    }
   ],
   "source": [
    "print df.iloc[0]"
   ]
  },
  {
   "cell_type": "markdown",
   "metadata": {},
   "source": [
    "I. Plot trends in single frame, with legend"
   ]
  },
  {
   "cell_type": "code",
   "execution_count": 9,
   "metadata": {
    "collapsed": false
   },
   "outputs": [
    {
     "data": {
      "text/plain": [
       "<matplotlib.legend.Legend at 0x32f1cf0>"
      ]
     },
     "execution_count": 9,
     "metadata": {},
     "output_type": "execute_result"
    },
    {
     "data": {
      "image/png": "[encoded data removed]",
      "text/plain": [
       "<matplotlib.figure.Figure at 0x17ddb0f0>"
      ]
     },
     "metadata": {},
     "output_type": "display_data"
    }
   ],
   "source": [
    "df.spring_break.plot()\n",
    "df.textbooks.plot()\n",
    "df.skiing.plot()\n",
    "df.kayak.plot()\n",
    "legend()"
   ]
  },
  {
   "cell_type": "code",
   "execution_count": 26,
   "metadata": {
    "collapsed": false
   },
   "outputs": [
    {
     "data": {
      "text/html": [
       "<div style=\"max-height:1000px;max-width:1500px;overflow:auto;\">\n",
       "<table border=\"1\" class=\"dataframe\">\n",
       "  <thead>\n",
       "    <tr style=\"text-align: right;\">\n",
       "      <th></th>\n",
       "      <th>textbooks</th>\n",
       "      <th>spring_break</th>\n",
       "      <th>kayak</th>\n",
       "      <th>skiing</th>\n",
       "      <th>global_warming</th>\n",
       "    </tr>\n",
       "  </thead>\n",
       "  <tbody>\n",
       "    <tr>\n",
       "      <th>count</th>\n",
       "      <td> 346.000000</td>\n",
       "      <td> 346.00000</td>\n",
       "      <td> 346.000000</td>\n",
       "      <td> 346.000000</td>\n",
       "      <td> 346.000000</td>\n",
       "    </tr>\n",
       "    <tr>\n",
       "      <th>mean</th>\n",
       "      <td>  22.263006</td>\n",
       "      <td>  20.34104</td>\n",
       "      <td>  40.343931</td>\n",
       "      <td>  25.158960</td>\n",
       "      <td>  26.057803</td>\n",
       "    </tr>\n",
       "    <tr>\n",
       "      <th>std</th>\n",
       "      <td>  15.208032</td>\n",
       "      <td>  16.50224</td>\n",
       "      <td>  14.900255</td>\n",
       "      <td>  20.202616</td>\n",
       "      <td>  15.060347</td>\n",
       "    </tr>\n",
       "    <tr>\n",
       "      <th>min</th>\n",
       "      <td>   7.000000</td>\n",
       "      <td>   5.00000</td>\n",
       "      <td>  15.000000</td>\n",
       "      <td>   6.000000</td>\n",
       "      <td>   5.000000</td>\n",
       "    </tr>\n",
       "    <tr>\n",
       "      <th>25%</th>\n",
       "      <td>  13.000000</td>\n",
       "      <td>   8.25000</td>\n",
       "      <td>  29.000000</td>\n",
       "      <td>  10.000000</td>\n",
       "      <td>  16.250000</td>\n",
       "    </tr>\n",
       "    <tr>\n",
       "      <th>50%</th>\n",
       "      <td>  16.000000</td>\n",
       "      <td>  13.00000</td>\n",
       "      <td>  39.000000</td>\n",
       "      <td>  16.000000</td>\n",
       "      <td>  22.000000</td>\n",
       "    </tr>\n",
       "    <tr>\n",
       "      <th>75%</th>\n",
       "      <td>  23.000000</td>\n",
       "      <td>  30.00000</td>\n",
       "      <td>  51.000000</td>\n",
       "      <td>  36.000000</td>\n",
       "      <td>  31.000000</td>\n",
       "    </tr>\n",
       "    <tr>\n",
       "      <th>max</th>\n",
       "      <td>  90.000000</td>\n",
       "      <td>  85.00000</td>\n",
       "      <td>  76.000000</td>\n",
       "      <td> 100.000000</td>\n",
       "      <td>  82.000000</td>\n",
       "    </tr>\n",
       "  </tbody>\n",
       "</table>\n",
       "</div>"
      ],
      "text/plain": [
       "        textbooks  spring_break       kayak      skiing  global_warming\n",
       "count  346.000000     346.00000  346.000000  346.000000      346.000000\n",
       "mean    22.263006      20.34104   40.343931   25.158960       26.057803\n",
       "std     15.208032      16.50224   14.900255   20.202616       15.060347\n",
       "min      7.000000       5.00000   15.000000    6.000000        5.000000\n",
       "25%     13.000000       8.25000   29.000000   10.000000       16.250000\n",
       "50%     16.000000      13.00000   39.000000   16.000000       22.000000\n",
       "75%     23.000000      30.00000   51.000000   36.000000       31.000000\n",
       "max     90.000000      85.00000   76.000000  100.000000       82.000000"
      ]
     },
     "execution_count": 26,
     "metadata": {},
     "output_type": "execute_result"
    }
   ],
   "source": [
    "# Let’s look at some summary statistics:\n",
    "df.describe()"
   ]
  },
  {
   "cell_type": "markdown",
   "metadata": {},
   "source": [
    "**II. Determine maxima and minima of each trend term**"
   ]
  },
  {
   "cell_type": "markdown",
   "metadata": {},
   "source": [
    "Determine in which week of each year (for all five search trends including \"global warming\") that search reached its peak and its minimum."
   ]
  },
  {
   "cell_type": "markdown",
   "metadata": {},
   "source": [
    "We can query the pandas data frame to return to us all values where a year is a particular value"
   ]
  },
  {
   "cell_type": "code",
   "execution_count": 29,
   "metadata": {
    "collapsed": false
   },
   "outputs": [
    {
     "ename": "AttributeError",
     "evalue": "'DatetimeIndex' object has no attribute 'yr'",
     "output_type": "error",
     "traceback": [
      "\u001b[0;31m---------------------------------------------------------------------------\u001b[0m\n\u001b[0;31mAttributeError\u001b[0m                            Traceback (most recent call last)",
      "\u001b[0;32m<ipython-input-29-5de8abbceb5b>\u001b[0m in \u001b[0;36m<module>\u001b[0;34m()\u001b[0m\n\u001b[1;32m      1\u001b[0m \u001b[0mtrend\u001b[0m \u001b[0;34m=\u001b[0m \u001b[0mdf\u001b[0m\u001b[0;34m.\u001b[0m\u001b[0mglobal_warming\u001b[0m\u001b[0;34m\u001b[0m\u001b[0m\n\u001b[1;32m      2\u001b[0m \u001b[0;32mfor\u001b[0m \u001b[0myr\u001b[0m \u001b[0;32min\u001b[0m \u001b[0mrange\u001b[0m\u001b[0;34m(\u001b[0m\u001b[0;36m2004\u001b[0m\u001b[0;34m,\u001b[0m\u001b[0;36m2011\u001b[0m\u001b[0;34m)\u001b[0m\u001b[0;34m:\u001b[0m\u001b[0;34m\u001b[0m\u001b[0m\n\u001b[0;32m----> 3\u001b[0;31m     \u001b[0msub_df\u001b[0m \u001b[0;34m=\u001b[0m \u001b[0mdf\u001b[0m\u001b[0;34m[\u001b[0m\u001b[0mdf\u001b[0m\u001b[0;34m.\u001b[0m\u001b[0mindex\u001b[0m\u001b[0;34m.\u001b[0m\u001b[0myr\u001b[0m \u001b[0;34m==\u001b[0m \u001b[0myr\u001b[0m\u001b[0;34m]\u001b[0m\u001b[0;34m\u001b[0m\u001b[0m\n\u001b[0m\u001b[1;32m      4\u001b[0m     \u001b[0;32mprint\u001b[0m \u001b[0msub_df\u001b[0m\u001b[0;34m[\u001b[0m\u001b[0mtrend\u001b[0m \u001b[0;34m==\u001b[0m \u001b[0mmax\u001b[0m\u001b[0;34m(\u001b[0m\u001b[0mtrend\u001b[0m\u001b[0;34m)\u001b[0m\u001b[0;34m]\u001b[0m\u001b[0;34m\u001b[0m\u001b[0m\n",
      "\u001b[0;31mAttributeError\u001b[0m: 'DatetimeIndex' object has no attribute 'yr'"
     ]
    }
   ],
   "source": [
    "trend = df.global_warming\n",
    "for yr in range(2004,2011):\n",
    "    sub_df = df[df.index.yr == yr]\n",
    "    print sub_df[trend == max(trend)]"
   ]
  },
  {
   "cell_type": "code",
   "execution_count": 116,
   "metadata": {
    "collapsed": false
   },
   "outputs": [],
   "source": [
    "dates = trends.week_start\n",
    "yrs = zeros_like(dates)\n",
    "wks = zeros_like(dates)\n",
    "for i in range(len(dates)):\n",
    "    yrs[i] = dates[i].year\n",
    "    wks[i] = dates[i].isocalendar()[1]"
   ]
  },
  {
   "cell_type": "markdown",
   "metadata": {},
   "source": [
    "For each year, list week numbers corresponding to maximum and minimum search values"
   ]
  },
  {
   "cell_type": "code",
   "execution_count": 117,
   "metadata": {
    "collapsed": false
   },
   "outputs": [],
   "source": [
    "trend = trends.global_warming\n",
    "for yr in range(2004,2011):\n",
    "    idx = find(yrs==yr)\n",
    "    print yr, wks[find(trend[idx] == max(trend[idx]))], wks[find(trend[idx] == min(trend[idx]))]"
   ]
  },
  {
   "cell_type": "markdown",
   "metadata": {},
   "source": [
    "**III. Study scatter about median values**"
   ]
  },
  {
   "cell_type": "markdown",
   "metadata": {},
   "source": [
    "Q: Is it true that $\\sigma(A) > \\sigma(B) \\Rightarrow \\sigma_\\textrm{median}(A) > \\sigma_\\textrm{median}(B)$?"
   ]
  },
  {
   "cell_type": "code",
   "execution_count": 118,
   "metadata": {
    "collapsed": true
   },
   "outputs": [],
   "source": [
    "def std_median(datums):\n",
    "    return sqrt( sum( (datums - median(datums))**2 ) )"
   ]
  },
  {
   "cell_type": "code",
   "execution_count": 119,
   "metadata": {
    "collapsed": false
   },
   "outputs": [],
   "source": [
    "print std_median(trends.spring_break)\n",
    "print std_median(trends.textbooks)\n",
    "print std_median(trends.skiing)\n",
    "print std_median(trends.kayak)\n",
    "print std_median(trends.global_warming)"
   ]
  },
  {
   "cell_type": "markdown",
   "metadata": {},
   "source": [
    "**IV. Correlation between trends**"
   ]
  },
  {
   "cell_type": "code",
   "execution_count": 120,
   "metadata": {
    "collapsed": false
   },
   "outputs": [],
   "source": [
    "result = np.correlate(trends.skiing,trends.spring_break, mode='full')\n",
    "gap = arange(result.size) - result.size/2\n",
    "plot(gap,result)\n",
    "print gap[find(result==max(result))]"
   ]
  },
  {
   "cell_type": "code",
   "execution_count": 121,
   "metadata": {
    "collapsed": false
   },
   "outputs": [],
   "source": [
    "result = np.correlate(trends.skiing,trends.global_warming, mode='full')\n",
    "gap = arange(result.size) - result.size/2\n",
    "plot(gap,result)\n",
    "print gap[find(result==max(result))]"
   ]
  },
  {
   "cell_type": "code",
   "execution_count": null,
   "metadata": {
    "collapsed": true
   },
   "outputs": [],
   "source": []
  }
 ],
 "metadata": {
  "kernelspec": {
   "display_name": "Python 2",
   "language": "python",
   "name": "python2"
  },
  "language_info": {
   "codemirror_mode": {
    "name": "ipython",
    "version": 2
   },
   "file_extension": ".py",
   "mimetype": "text/x-python",
   "name": "python",
   "nbconvert_exporter": "python",
   "pygments_lexer": "ipython2",
   "version": "2.7.11"
  }
 },
 "nbformat": 4,
 "nbformat_minor": 0
}
