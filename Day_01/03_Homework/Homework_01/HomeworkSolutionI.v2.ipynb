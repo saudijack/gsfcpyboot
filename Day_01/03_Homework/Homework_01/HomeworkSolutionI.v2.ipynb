{
 "cells": [
  {
   "cell_type": "markdown",
   "metadata": {},
   "source": [
    "**0. Import & parse CSV data**"
   ]
  },
  {
   "cell_type": "code",
   "execution_count": 112,
   "metadata": {
    "collapsed": true
   },
   "outputs": [],
   "source": [
    "import numpy as np\n",
    "import matplotlib"
   ]
  },
  {
   "cell_type": "code",
   "execution_count": 113,
   "metadata": {
    "collapsed": false
   },
   "outputs": [],
   "source": [
    "from matplotlib.pylab import plot, legend, csv2rec"
   ]
  },
  {
   "cell_type": "code",
   "execution_count": 114,
   "metadata": {
    "collapsed": true
   },
   "outputs": [],
   "source": [
    "trends = csv2rec('trends.csv')"
   ]
  },
  {
   "cell_type": "markdown",
   "metadata": {},
   "source": [
    "I. Plot trends in single frame, with legend"
   ]
  },
  {
   "cell_type": "code",
   "execution_count": 115,
   "metadata": {
    "collapsed": false
   },
   "outputs": [],
   "source": [
    "plot(trends.week_start, trends.spring_break, label='spring break')\n",
    "plot(trends.week_start, trends.textbooks, label='texbooks')\n",
    "plot(trends.week_start, trends.skiing, label='skiing')\n",
    "plot(trends.week_start, trends.kayak, label='kayak')\n",
    "legend()"
   ]
  },
  {
   "cell_type": "markdown",
   "metadata": {},
   "source": [
    "**II. Determine maxima and minima of each trend term**"
   ]
  },
  {
   "cell_type": "markdown",
   "metadata": {},
   "source": [
    "Create vector of year and week numbers"
   ]
  },
  {
   "cell_type": "code",
   "execution_count": 116,
   "metadata": {
    "collapsed": false
   },
   "outputs": [],
   "source": [
    "dates = trends.week_start\n",
    "yrs = zeros_like(dates)\n",
    "wks = zeros_like(dates)\n",
    "for i in range(len(dates)):\n",
    "    yrs[i] = dates[i].year\n",
    "    wks[i] = dates[i].isocalendar()[1]"
   ]
  },
  {
   "cell_type": "markdown",
   "metadata": {},
   "source": [
    "For each year, list week numbers corresponding to maximum and minimum search values"
   ]
  },
  {
   "cell_type": "code",
   "execution_count": 117,
   "metadata": {
    "collapsed": false
   },
   "outputs": [],
   "source": [
    "trend = trends.global_warming\n",
    "for yr in range(2004,2011):\n",
    "    idx = find(yrs==yr)\n",
    "    print yr, wks[find(trend[idx] == max(trend[idx]))], wks[find(trend[idx] == min(trend[idx]))]"
   ]
  },
  {
   "cell_type": "markdown",
   "metadata": {},
   "source": [
    "**III. Study scatter about median values**"
   ]
  },
  {
   "cell_type": "markdown",
   "metadata": {},
   "source": [
    "Q: Is it true that $\\sigma(A) > \\sigma(B) \\Rightarrow \\sigma_\\textrm{median}(A) > \\sigma_\\textrm{median}(B)$?"
   ]
  },
  {
   "cell_type": "code",
   "execution_count": 118,
   "metadata": {
    "collapsed": true
   },
   "outputs": [],
   "source": [
    "def std_median(datums):\n",
    "    return sqrt( sum( (datums - median(datums))**2 ) )"
   ]
  },
  {
   "cell_type": "code",
   "execution_count": 119,
   "metadata": {
    "collapsed": false
   },
   "outputs": [],
   "source": [
    "print std_median(trends.spring_break)\n",
    "print std_median(trends.textbooks)\n",
    "print std_median(trends.skiing)\n",
    "print std_median(trends.kayak)\n",
    "print std_median(trends.global_warming)"
   ]
  },
  {
   "cell_type": "markdown",
   "metadata": {},
   "source": [
    "**IV. Correlation between trends**"
   ]
  },
  {
   "cell_type": "code",
   "execution_count": 120,
   "metadata": {
    "collapsed": false
   },
   "outputs": [],
   "source": [
    "result = np.correlate(trends.skiing,trends.spring_break, mode='full')\n",
    "gap = arange(result.size) - result.size/2\n",
    "plot(gap,result)\n",
    "print gap[find(result==max(result))]"
   ]
  },
  {
   "cell_type": "code",
   "execution_count": 121,
   "metadata": {
    "collapsed": false
   },
   "outputs": [],
   "source": [
    "result = np.correlate(trends.skiing,trends.global_warming, mode='full')\n",
    "gap = arange(result.size) - result.size/2\n",
    "plot(gap,result)\n",
    "print gap[find(result==max(result))]"
   ]
  },
  {
   "cell_type": "code",
   "execution_count": null,
   "metadata": {
    "collapsed": true
   },
   "outputs": [],
   "source": []
  }
 ],
 "metadata": {
  "kernelspec": {
   "display_name": "Python 2",
   "language": "python",
   "name": "python2"
  },
  "language_info": {
   "codemirror_mode": {
    "name": "ipython",
    "version": 2
   },
   "file_extension": ".py",
   "mimetype": "text/x-python",
   "name": "python",
   "nbconvert_exporter": "python",
   "pygments_lexer": "ipython2",
   "version": "2.7.11"
  }
 },
 "nbformat": 4,
 "nbformat_minor": 0
}
