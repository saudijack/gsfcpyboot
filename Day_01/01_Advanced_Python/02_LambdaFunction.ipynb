{
 "cells": [
  {
   "cell_type": "markdown",
   "metadata": {},
   "source": [
    "# Lambda Function and More"
   ]
  },
  {
   "cell_type": "markdown",
   "metadata": {},
   "source": [
    "## <font color='red'>Reference Documents</font>"
   ]
  },
  {
   "cell_type": "markdown",
   "metadata": {},
   "source": [
    "<OL>\n",
    "<LI> <A HREF=\"http://www.u.arizona.edu/~erdmann/mse350/topics/list_comprehensions.html\">Map, Filter, Lambda, and List Comprehensions in Python</A>\n",
    "</OL>"
   ]
  },
  {
   "cell_type": "markdown",
   "metadata": {},
   "source": [
    "## <font color='red'>Lambda, Filter, Reduce and Map</font>"
   ]
  },
  {
   "cell_type": "markdown",
   "metadata": {},
   "source": [
    "<UL>\n",
    "<LI> The lambda operator or lambda function is a way to create small anonymous functions.\n",
    "<LI> These functions are throw-away functions, i.e. they are just needed where they have been created.\n",
    "<LI> Lambda functions are mainly used in combination with the functions filter(), map() and reduce().\n",
    "</UL>"
   ]
  },
  {
   "cell_type": "markdown",
   "metadata": {},
   "source": [
    "### Basic Syntax of a Lambda Function"
   ]
  },
  {
   "cell_type": "code",
   "execution_count": null,
   "metadata": {
    "collapsed": false
   },
   "outputs": [],
   "source": [
    "lambda argument_list: expression \n",
    "\n",
    "# The argument list consists of a comma separated list of arguments and \n",
    "# the expression is an arithmetic expression using these arguments."
   ]
  },
  {
   "cell_type": "code",
   "execution_count": null,
   "metadata": {
    "collapsed": false
   },
   "outputs": [],
   "source": [
    "f = lambda x, y : x + y\n",
    "f(2,1)"
   ]
  },
  {
   "cell_type": "markdown",
   "metadata": {},
   "source": [
    "### Lambda as macro"
   ]
  },
  {
   "cell_type": "code",
   "execution_count": null,
   "metadata": {
    "collapsed": false
   },
   "outputs": [],
   "source": [
    "line1 = \"A cat, a dog  \"\n",
    "line2 = \"  a bird, a mountain\"\n",
    "\n",
    "# Use X as an alias for two methods.\n",
    "x = lambda s: s.strip().upper()\n",
    "\n",
    "# Call the lambda to shorten the program's source.\n",
    "line1b = x(line1)\n",
    "line2b = x(line2)\n",
    "\n",
    "print(line1b)\n",
    "print(line2b)"
   ]
  },
  {
   "cell_type": "markdown",
   "metadata": {},
   "source": [
    "### Map Function"
   ]
  },
  {
   "cell_type": "markdown",
   "metadata": {},
   "source": [
    "map() is a function with two arguments: "
   ]
  },
  {
   "cell_type": "code",
   "execution_count": null,
   "metadata": {
    "collapsed": false
   },
   "outputs": [],
   "source": [
    "r = map(func, seq)"
   ]
  },
  {
   "cell_type": "markdown",
   "metadata": {},
   "source": [
    "The first argument func is the name of a function and \n",
    "the second a sequence (e.g. a list) seq. map() applies \n",
    "the function func to all the elements of the sequence seq. \n",
    "It returns a new list with the elements changed by func"
   ]
  },
  {
   "cell_type": "code",
   "execution_count": null,
   "metadata": {
    "collapsed": false
   },
   "outputs": [],
   "source": [
    "def fahrenheit(T):\n",
    "    return ((float(9)/5)*T + 32)\n",
    "def celsius(T):\n",
    "    return (float(5)/9)*(T-32)\n",
    "temp = (36.5, 37, 37.5,39)\n",
    "\n",
    "F = map(fahrenheit, temp)\n",
    "print F\n",
    "C = map(celsius, F)\n",
    "print C"
   ]
  },
  {
   "cell_type": "code",
   "execution_count": null,
   "metadata": {
    "collapsed": false
   },
   "outputs": [],
   "source": [
    "# map() can be applied to more than one list. \n",
    "# The lists have to have the same length.\n",
    "a = [1,2,3,4]\n",
    "b = [17,12,11,10]\n",
    "c = [-1,-4,5,9]\n",
    "map(lambda x,y:x+y, a,b)"
   ]
  },
  {
   "cell_type": "code",
   "execution_count": null,
   "metadata": {
    "collapsed": false
   },
   "outputs": [],
   "source": [
    "map(lambda x,y,z:x+y+z, a,b,c)"
   ]
  },
  {
   "cell_type": "code",
   "execution_count": null,
   "metadata": {
    "collapsed": false
   },
   "outputs": [],
   "source": [
    "map(lambda x,y,z:x+y-z, a,b,c)"
   ]
  },
  {
   "cell_type": "markdown",
   "metadata": {},
   "source": [
    "### <u>Problem 1</u>"
   ]
  },
  {
   "cell_type": "code",
   "execution_count": null,
   "metadata": {
    "collapsed": false
   },
   "outputs": [],
   "source": [
    "words = 'The quick brown fox jumps over the lazy dog'.split()\n",
    "print words\n",
    "stuff = []\n",
    "for w in words:\n",
    "    stuff.append([w.upper(), w.lower(), len(w)])\n",
    "\n",
    "for i in stuff:\n",
    "    print i"
   ]
  },
  {
   "cell_type": "markdown",
   "metadata": {},
   "source": [
    "Use list comprehension and lambda/map function to define <b>stuff</b>."
   ]
  },
  {
   "cell_type": "code",
   "execution_count": null,
   "metadata": {
    "collapsed": false
   },
   "outputs": [],
   "source": []
  },
  {
   "cell_type": "markdown",
   "metadata": {},
   "source": [
    "### Filter Function"
   ]
  },
  {
   "cell_type": "markdown",
   "metadata": {},
   "source": [
    "The function <B>filter(func, iterableType)</B> offers an elegant way to \n",
    "filter out all the elements of any iterable type (list, tuple, string, etc.), for which the function func returns True. "
   ]
  },
  {
   "cell_type": "code",
   "execution_count": null,
   "metadata": {
    "collapsed": false
   },
   "outputs": [],
   "source": [
    "fib = [0,1,1,2,3,5,8,13,21,34,55]\n",
    "result = filter(lambda x: x % 2, fib)\n",
    "print result\n",
    "\n",
    "result = filter(lambda x: x % 2 == 0, fib)\n",
    "print result"
   ]
  },
  {
   "cell_type": "markdown",
   "metadata": {},
   "source": [
    "### <u>Problem 2</u>"
   ]
  },
  {
   "cell_type": "markdown",
   "metadata": {},
   "source": [
    "Use the filter function to remove all the vowels from the sentence"
   ]
  },
  {
   "cell_type": "code",
   "execution_count": 21,
   "metadata": {
    "collapsed": false
   },
   "outputs": [],
   "source": [
    "sentence = \"It's a myth that there are no words in English without vowels.\"\n",
    "vowels = 'aeiou' "
   ]
  },
  {
   "cell_type": "code",
   "execution_count": null,
   "metadata": {
    "collapsed": false
   },
   "outputs": [],
   "source": []
  },
  {
   "cell_type": "markdown",
   "metadata": {
    "collapsed": false
   },
   "source": [
    "### Reduce Function"
   ]
  },
  {
   "cell_type": "markdown",
   "metadata": {
    "collapsed": false
   },
   "source": [
    "The function <B>reduce(func, seq)</B> continually applies the function func() to the sequence seq. It returns a single value. "
   ]
  },
  {
   "cell_type": "markdown",
   "metadata": {
    "collapsed": false
   },
   "source": [
    "#### Syntax"
   ]
  },
  {
   "cell_type": "code",
   "execution_count": null,
   "metadata": {
    "collapsed": false
   },
   "outputs": [],
   "source": [
    "def reduce( aFunction, aSequence, init= 0 ):\n",
    "    r= init\n",
    "    for s in aSequence:\n",
    "        r= aFunction( r, s )\n",
    "    return r"
   ]
  },
  {
   "cell_type": "markdown",
   "metadata": {
    "collapsed": false
   },
   "source": [
    "#### Examples"
   ]
  },
  {
   "cell_type": "code",
   "execution_count": null,
   "metadata": {
    "collapsed": false
   },
   "outputs": [],
   "source": [
    "A = reduce(lambda x,y: x+y, [47,11,42,13])\n",
    "print A\n",
    "\n",
    "# Determining the maximum of a list of numerical values by using reduce\n",
    "f = lambda a,b: a if (a > b) else b\n",
    "B = reduce(f, [47,11,42,102,13])\n",
    "print B\n",
    "\n",
    "# Calculating the sum of the numbers from 1 to n: \n",
    "n = 300\n",
    "C = reduce(lambda x, y: x+y, range(1,n+1))\n",
    "print C"
   ]
  },
  {
   "cell_type": "code",
   "execution_count": null,
   "metadata": {
    "collapsed": false
   },
   "outputs": [],
   "source": [
    "def x100y(x,y):\n",
    "    return 100*x+y\n",
    "\n",
    "reduce(x100y, [13])\n",
    "reduce(x100y, [2, 5, 9])\n",
    "reduce(x100y, [2, 5, 9], 7)"
   ]
  },
  {
   "cell_type": "markdown",
   "metadata": {},
   "source": [
    "### <u>Problem 3</u>"
   ]
  },
  {
   "cell_type": "markdown",
   "metadata": {},
   "source": [
    "Use the reduce function to find the product of all the entries in the list\n",
    "[47,11,42,102,13]"
   ]
  },
  {
   "cell_type": "code",
   "execution_count": null,
   "metadata": {
    "collapsed": false
   },
   "outputs": [],
   "source": [
    "print reduce(lambda x,y: x*y, [47,11,42,102,13])"
   ]
  },
  {
   "cell_type": "code",
   "execution_count": null,
   "metadata": {
    "collapsed": false
   },
   "outputs": [],
   "source": [
    "# note that you can improve the speed of the calculation using built-in functions\n",
    "# or better still: using the numpy module\n",
    "from operator import mul\n",
    "import numpy as np\n",
    "a = range(1, 101)\n",
    "\n",
    "print \"reduce(lambda x, y: x * y, a)\"\n",
    "%timeit reduce(lambda x, y: x * y, a)   # (1)\n",
    "\n",
    "print \"reduce(mul, a)\"\n",
    "%timeit reduce(mul, a)                  # (2)\n",
    "\n",
    "print \"np.prod(a)\"\n",
    "a = np.array(a)\n",
    "%timeit np.prod(a)                      # (3)"
   ]
  },
  {
   "cell_type": "markdown",
   "metadata": {},
   "source": [
    "## <font color='red'>Exception Handling</font>"
   ]
  },
  {
   "cell_type": "code",
   "execution_count": null,
   "metadata": {
    "collapsed": false
   },
   "outputs": [],
   "source": [
    "from IPython.display import YouTubeVideo\n",
    "YouTubeVideo(\"hrR0WrQMhSs\")"
   ]
  },
  {
   "cell_type": "markdown",
   "metadata": {},
   "source": [
    "<UL>\n",
    "<LI> An exception is an error that happens during the execution of a program.\n",
    "<LI> Exceptions are known to non-programmers as instances that do not conform to a general rule.\n",
    "<LI> Exception handling is a construct to handle or deal with errors automatically. \n",
    "<LI> The code, which harbours the risk of an exception, is embedded in a try block. \n",
    "</UL>"
   ]
  },
  {
   "cell_type": "markdown",
   "metadata": {},
   "source": [
    "#### Simple example"
   ]
  },
  {
   "cell_type": "code",
   "execution_count": null,
   "metadata": {
    "collapsed": false
   },
   "outputs": [],
   "source": [
    "def enter_number0():\n",
    "    n = int(raw_input(\"Please enter a number: \"))\n",
    "\n",
    "enter_number0()"
   ]
  },
  {
   "cell_type": "code",
   "execution_count": null,
   "metadata": {
    "collapsed": false
   },
   "outputs": [],
   "source": [
    "def enter_number1():\n",
    "    while True:\n",
    "        try:\n",
    "           n = raw_input(\"Please enter an integer: \")\n",
    "           n = int(n)\n",
    "           break\n",
    "        except ValueError:\n",
    "            print \"No valid integer! Please try again ...\"\n",
    "    print \"Great, you successfully entered an integer!\"\n",
    "\n",
    "enter_number1()"
   ]
  },
  {
   "cell_type": "markdown",
   "metadata": {},
   "source": [
    "#### Some Exception Errors"
   ]
  },
  {
   "cell_type": "markdown",
   "metadata": {},
   "source": [
    "<UL>\n",
    "<LI> <B>IOError</B>: The file cannot be opened\n",
    "<LI> <B>ImportError</B>: Python cannot find the module\n",
    "<LI> <B>ValueError</B>: A built-in operation or function receives an argument that has the\n",
    "right type but an inappropriate value.\n",
    "<LI> <B>KeyboardInterrupt</B>: The user hits the interrupt key (normally Control-C or Delete)\n",
    "<LI> <B>EOFError</B>: One of the built-in functions (input() or raw_input()) hits an\n",
    "end-of-file condition (EOF) without reading any data.\n",
    "<LI> <B> OverflowError, ZeroDivisionError, FloatingPointError</B>: \n",
    "</UL>\n",
    "\n",
    "An exhaustive list of built-in exceptions can be found here:\n",
    "https://docs.python.org/2/library/exceptions.html"
   ]
  },
  {
   "cell_type": "markdown",
   "metadata": {},
   "source": [
    "#### else..."
   ]
  },
  {
   "cell_type": "code",
   "execution_count": null,
   "metadata": {
    "collapsed": false
   },
   "outputs": [],
   "source": [
    "def inverse_number0():\n",
    "    try:\n",
    "        x = float(raw_input(\"Your number: \"))\n",
    "        inverse = 1.0 / x\n",
    "    except ValueError:\n",
    "        print \"You should have given either an int or a float\"\n",
    "    except ZeroDivisionError:\n",
    "        print \"Infinity\"\n",
    "    else:\n",
    "        print \"OK\"\n",
    "        \n",
    "inverse_number0()"
   ]
  },
  {
   "cell_type": "code",
   "execution_count": null,
   "metadata": {
    "collapsed": false
   },
   "outputs": [],
   "source": [
    "# import module sys to get the type of exception\n",
    "import sys\n",
    "\n",
    "def inverse_number1():\n",
    "    while True:\n",
    "        try:\n",
    "            x = int(raw_input(\"Enter an integer: \"))\n",
    "            r = 1/x\n",
    "            break\n",
    "        except:\n",
    "            print \"Oops!\",sys.exc_info()[0],\"occured.\"\n",
    "            print \"Please try again.\"\n",
    "            print\n",
    "    print \"The reciprocal of\",x,\"is\",r\n",
    "    \n",
    "inverse_number1()"
   ]
  },
  {
   "cell_type": "markdown",
   "metadata": {},
   "source": [
    "#### Clean-up Actions (try ... finally)"
   ]
  },
  {
   "cell_type": "code",
   "execution_count": null,
   "metadata": {
    "collapsed": false
   },
   "outputs": [],
   "source": [
    "def inverse_number2():\n",
    "    try:\n",
    "        x = float(raw_input(\"Your number: \"))\n",
    "        inverse = 1.0 / x\n",
    "    finally:\n",
    "        print \"There may or may not have been an exception.\"\n",
    "    print \"The inverse: \", inverse\n",
    "    \n",
    "inverse_number2()"
   ]
  },
  {
   "cell_type": "code",
   "execution_count": null,
   "metadata": {
    "collapsed": false
   },
   "outputs": [],
   "source": [
    "def inverse_number3():\n",
    "    try:\n",
    "        x = float(raw_input(\"Your number: \"))\n",
    "        inverse = 1.0 / x\n",
    "    except ValueError:\n",
    "        print \"You should have given either an int or a float\"\n",
    "    except ZeroDivisionError:\n",
    "        print \"Infinity\"\n",
    "    finally:\n",
    "        print \"There may or may not have been an exception.\"\n",
    "    \n",
    "inverse_number3()"
   ]
  },
  {
   "cell_type": "markdown",
   "metadata": {},
   "source": [
    "#### Raising Exceptions"
   ]
  },
  {
   "cell_type": "code",
   "execution_count": null,
   "metadata": {
    "collapsed": false
   },
   "outputs": [],
   "source": [
    "def achilles_arrow(x):\n",
    "    if abs(x - 1) < 1e-3:\n",
    "        raise StopIteration\n",
    "    x = 1 - (1-x)/2.\n",
    "    return x"
   ]
  },
  {
   "cell_type": "code",
   "execution_count": null,
   "metadata": {
    "collapsed": false
   },
   "outputs": [],
   "source": [
    "x=0.0\n",
    "\n",
    "while True:\n",
    "    try:\n",
    "        x = achilles_arrow(x)\n",
    "    except StopIteration:\n",
    "        break\n",
    "        \n",
    "print \"x = \", x"
   ]
  },
  {
   "cell_type": "code",
   "execution_count": null,
   "metadata": {
    "collapsed": false
   },
   "outputs": [],
   "source": []
  }
 ],
 "metadata": {
  "kernelspec": {
   "display_name": "Python 2",
   "language": "python",
   "name": "python2"
  },
  "language_info": {
   "codemirror_mode": {
    "name": "ipython",
    "version": 2
   },
   "file_extension": ".py",
   "mimetype": "text/x-python",
   "name": "python",
   "nbconvert_exporter": "python",
   "pygments_lexer": "ipython2",
   "version": "2.7.11"
  }
 },
 "nbformat": 4,
 "nbformat_minor": 0
}
