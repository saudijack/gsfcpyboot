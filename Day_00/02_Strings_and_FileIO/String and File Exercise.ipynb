{
 "cells": [
  {
   "cell_type": "markdown",
   "metadata": {},
   "source": [
    "# Your job"
   ]
  },
  {
   "cell_type": "markdown",
   "metadata": {},
   "source": [
    "Write a Python program that reads in a file of data on monster movies and perform some simple processing on the data.\n",
    "\n",
    "The file has the following format:\n",
    "\n",
    "* Each line has 3 fields, separated by pipe ('|') characters.\n",
    "* The first field is the movie title.\n",
    "* The second field is the year the movie was released.\n",
    "* The third field is the list of other monsters that appeared in the movie. Name are separated by commas.\n",
    "\n",
    "Do the following:\n",
    "\n",
    "* Open the file and read in all of the data.\n",
    "* How many movies are listed?\n",
    "* Determine how many times that pesky moth (Mothra) appeared in the movies."
   ]
  }
 ],
 "metadata": {
  "kernelspec": {
   "display_name": "Python 2",
   "language": "python",
   "name": "python2"
  },
  "language_info": {
   "codemirror_mode": {
    "name": "ipython",
    "version": 2
   },
   "file_extension": ".py",
   "mimetype": "text/x-python",
   "name": "python",
   "nbconvert_exporter": "python",
   "pygments_lexer": "ipython2",
   "version": "2.7.11"
  }
 },
 "nbformat": 4,
 "nbformat_minor": 0
}
