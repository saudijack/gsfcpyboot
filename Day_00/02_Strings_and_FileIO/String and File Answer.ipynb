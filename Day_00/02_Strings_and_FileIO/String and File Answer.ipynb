{
 "cells": [
  {
   "cell_type": "code",
   "execution_count": 1,
   "metadata": {
    "collapsed": false
   },
   "outputs": [
    {
     "name": "stdout",
     "output_type": "stream",
     "text": [
      "[['Godzilla', '1998', 'Matthew Broderick\\r\\n'], ['The Return of Godzilla', '1984', 'Shockirus\\r\\n'], ['Godzilla', '1954', 'None\\r\\n'], ['Godzilla Raids Again', '1955', 'Anguiras\\r\\n'], ['King Kong vs. Godzilla', '1962', 'King Kong,giant octopus\\r\\n'], ['Ghidorah, the Three-Headed Monster', '1964', 'King Ghidorah,Mothra,Rodan\\r\\n'], ['Godzilla vs. the Sea Monster', '1966', 'Ebirah,Mothra,giant condor\\r\\n'], ['Son of Godzilla', '1967', 'Kamacuras,Kumonga,Minilla\\r\\n'], ['Destroy All Monsters', '1968', 'Anguiras,Baragon,Gorosaurus,King Ghidorah,Kumonga,Manda,Minilla,Mothra,Rodan,Varan\\r\\n'], ['All Monsters Attack', '1969', 'Gabara,Minilla,Maneater\\r\\n'], ['Godzilla vs. Hedorah', '1971', 'Hedorah\\r\\n'], ['Godzilla vs. Megalon', '1973', 'Gigan,Jet Jaguaar,Megalon\\r\\n'], ['Godzilla vs. Mechagodzilla', '1974', 'Anguiras,King Caesar,Mechagodzilla,Fake Godzilla\\r\\n'], ['Terror of Mechagodzilla', '1975', 'Mechagodzilla,Titanosaurus\\r\\n'], ['Godzilla vs. Biollante', '1989', 'Biollante\\r\\n'], ['Godzilla vs. King Ghidorah', '1991', 'Dorat,Godzillasaurus,King Ghidorah,Mecha-King Ghidorah\\r\\n'], ['Godzilla vs. Mothra', '1992', 'Battra,Mothra\\r\\n'], ['Godzilla vs. Mechagodzilla II', '1993', 'Baby Godzilla,Rodan,Mechagodzilla,Mecha-King Ghidorah\\r\\n'], ['Godzilla vs. SpaceGodzilla', '1994', 'Fairy Mothra,Little Godzilla,MOGUERA,SpaceGodzilla\\r\\n'], ['Godzilla 2000: Millennium', '1999', 'Orga\\r\\n'], ['Godzilla vs. Megaguiras', '2000', 'Meganulon,Meganula,Megaguiras\\r\\n'], ['Godzilla, Mothra, and King Ghidorah: Giant Monsters All-Out Attack', '2001', 'Baragon,King Ghidorah,Mothra\\r\\n'], ['Godzilla Against Mechagodzilla', '2002', 'Kiryu\\r\\n'], ['Godzilla: Tokyo S.O.S.', '2003', 'Kamoebas,Kiryu,Mothra\\r\\n'], ['Godzilla: Final Wars', '2004', 'Anguiras,Ebirah,Gigan,Hedorah,Monster X,Keizer Ghidorah,Kamacuras,King Caesar,Kumonga,Manda,Minilla,Mothra,Rodan,Zilla\\r\\n'], ['Godzilla', '2014', 'M.U.T.O.\\r\\n'], ['Mothra vs. Godzilla', '1964', 'Mothra\\r\\n'], ['Invasion of Astro-Monster', '1965', 'King Ghidorah,Rodan\\r\\n'], ['Godzilla vs. Gigan', '1972', 'Anguiras,Gigan,King Ghidorah\\r\\n']]\n",
      "There are 29 movies.\n",
      "That damn moth appears 9 times.\n"
     ]
    }
   ],
   "source": [
    "movies = []\n",
    "f = open('kaiju_movies.dat')\n",
    "f.readline()\n",
    "for line in f:\n",
    "    fields = line.split('|')\n",
    "    #print fields\n",
    "    movies.append(fields)\n",
    "f.close()\n",
    "print movies\n",
    "num_movies = len(movies)\n",
    "print \"There are %d movies.\" % num_movies\n",
    "num_mothras = 0\n",
    "for fields in movies:\n",
    "    if 'Mothra' in fields[2]:\n",
    "        num_mothras += 1\n",
    "print \"That damn moth appears %d times.\" % num_mothras"
   ]
  },
  {
   "cell_type": "code",
   "execution_count": null,
   "metadata": {
    "collapsed": false
   },
   "outputs": [],
   "source": []
  }
 ],
 "metadata": {
  "kernelspec": {
   "display_name": "Python 2",
   "language": "python",
   "name": "python2"
  },
  "language_info": {
   "codemirror_mode": {
    "name": "ipython",
    "version": 2
   },
   "file_extension": ".py",
   "mimetype": "text/x-python",
   "name": "python",
   "nbconvert_exporter": "python",
   "pygments_lexer": "ipython2",
   "version": "2.7.11"
  }
 },
 "nbformat": 4,
 "nbformat_minor": 0
}
