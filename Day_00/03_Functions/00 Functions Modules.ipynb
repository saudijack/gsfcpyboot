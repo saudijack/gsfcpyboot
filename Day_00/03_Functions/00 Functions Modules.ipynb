{
 "cells": [
  {
   "cell_type": "markdown",
   "metadata": {},
   "source": [
    "## Functions and Modules"
   ]
  },
  {
   "cell_type": "markdown",
   "metadata": {},
   "source": [
    "### Reference Document"
   ]
  },
  {
   "cell_type": "markdown",
   "metadata": {},
   "source": [
    "<OL>\n",
    "<LI> <A HREF=\"http://www.tutorialspoint.com/python/python_functions.htm\">Python Functions</A>\n",
    "<LI> <A HREF=\"http://en.wikibooks.org/wiki/Python_Programming/Functions\">Python Programming/Functions</A>\n",
    "<LI> <A HREF=\"http://www.tutorialspoint.com/python/python_modules.htm\">Python Modules</A>\n",
    "<LI> <A HREF=\"http://www.ibiblio.org/g2swap/byteofpython/read/making-modules.html\">Making your Own Module</A>\n",
    "</OL>"
   ]
  },
  {
   "cell_type": "markdown",
   "metadata": {},
   "source": [
    "### What is a Function?"
   ]
  },
  {
   "cell_type": "markdown",
   "metadata": {},
   "source": [
    "<UL>\n",
    "<LI> A block of organized, reusable code that is used to perform a single, related action.\n",
    "<LI> Provides better modularity for your application and a high degree of code reusing.\n",
    "<LI> You can name a function anything you want as long as it:\n",
    "    <OL>\n",
    "    <LI> Contains only numbers, letters, underscore\n",
    "    <LI> Does not start with a number\n",
    "    <LI> Is not the same name as a built-in function (like print).\n",
    "    </OL>\n",
    "</UL>"
   ]
  },
  {
   "cell_type": "markdown",
   "metadata": {},
   "source": [
    "### Basic Synthax of a Function"
   ]
  },
  {
   "cell_type": "code",
   "execution_count": null,
   "metadata": {
    "collapsed": false
   },
   "outputs": [],
   "source": [
    "from IPython.core.display import Image \n",
    "Image(filename='diagramFunction.png') "
   ]
  },
  {
   "cell_type": "markdown",
   "metadata": {},
   "source": [
    "### An Example"
   ]
  },
  {
   "cell_type": "code",
   "execution_count": null,
   "metadata": {
    "collapsed": false
   },
   "outputs": [],
   "source": [
    "def int(x,y):\n",
    "    return x + y"
   ]
  },
  {
   "cell_type": "code",
   "execution_count": null,
   "metadata": {
    "collapsed": false
   },
   "outputs": [],
   "source": [
    "type(1) == int"
   ]
  },
  {
   "cell_type": "code",
   "execution_count": null,
   "metadata": {
    "collapsed": false
   },
   "outputs": [],
   "source": [
    "print addnums(0x1f,3.3)"
   ]
  },
  {
   "cell_type": "code",
   "execution_count": null,
   "metadata": {
    "collapsed": false
   },
   "outputs": [],
   "source": [
    "print addnums(\"a\",\"b\")"
   ]
  },
  {
   "cell_type": "code",
   "execution_count": null,
   "metadata": {
    "collapsed": false
   },
   "outputs": [],
   "source": [
    "print addnums(\"cat\",23232)"
   ]
  },
  {
   "cell_type": "markdown",
   "metadata": {},
   "source": [
    "### Scope of a Function"
   ]
  },
  {
   "cell_type": "code",
   "execution_count": null,
   "metadata": {
    "collapsed": false
   },
   "outputs": [],
   "source": [
    "def numop(x,y):\n",
    "    x *= 3.14\n",
    "    return x + y\n",
    "x = 2\n",
    "print numop(x, 8)\n",
    "print x"
   ]
  },
  {
   "cell_type": "markdown",
   "metadata": {},
   "source": [
    "Python has it’s own local variables list. \n",
    "x is not modified globally\n",
    "...unless you specify that it’s a global variable"
   ]
  },
  {
   "cell_type": "code",
   "execution_count": null,
   "metadata": {
    "collapsed": false
   },
   "outputs": [],
   "source": [
    "def numop(x,y):\n",
    "    x *= 3.14\n",
    "    global a    \n",
    "    a += 1\n",
    "    return x + y, a\n",
    "\n",
    "a = 2\n",
    "numop(1,1)\n",
    "numop(1,1)"
   ]
  },
  {
   "cell_type": "markdown",
   "metadata": {},
   "source": [
    "### Pass by reference vs value"
   ]
  },
  {
   "cell_type": "markdown",
   "metadata": {},
   "source": [
    "All parameters (arguments) in the Python language are passed by reference. \n",
    "It means if you change what a parameter refers to within a function, the change also reflects back in the calling function. "
   ]
  },
  {
   "cell_type": "code",
   "execution_count": null,
   "metadata": {
    "collapsed": false
   },
   "outputs": [],
   "source": [
    "def changeme_1( mylist ):\n",
    "   mylist = [1,2,3,4]; # This would assig new reference in mylist\n",
    "   print \"Values inside the function changeme_1: \", mylist\n",
    "   return\n",
    "\n",
    "def changeme_2( mylist ):\n",
    "   mylist.append([1,2,3,4]);\n",
    "   print \"Values inside the function changeme_2: \", mylist\n",
    "   return"
   ]
  },
  {
   "cell_type": "code",
   "execution_count": null,
   "metadata": {
    "collapsed": false
   },
   "outputs": [],
   "source": [
    "mylist1 = [10,20,30];\n",
    "changeme_1( mylist1 );\n",
    "print \"Values outside the function: \", mylist1\n",
    "print"
   ]
  },
  {
   "cell_type": "code",
   "execution_count": null,
   "metadata": {
    "collapsed": false
   },
   "outputs": [],
   "source": [
    "mylist2 = [10,20,30];\n",
    "changeme_2( mylist2 );\n",
    "print \"Values outside the function: \", mylist2"
   ]
  },
  {
   "cell_type": "markdown",
   "metadata": {},
   "source": [
    "### Function Arguments  "
   ]
  },
  {
   "cell_type": "markdown",
   "metadata": {},
   "source": [
    "You can call a function by using the following types of formal arguments:\n",
    "<UL>\n",
    "<LI> Required arguments (arguments passed to a function in correct positional order. Here, the number of arguments in the function call should match exactly with the function definition)\n",
    "<LI> Keyword arguments (identified by parameter names)\n",
    "<LI> Default arguments (assume default values if values are not provided in the function call for those arguments) \n",
    "<LI> Variable-length arguments (are not explicitly named in the function definition)\n",
    "</UL>"
   ]
  },
  {
   "cell_type": "markdown",
   "metadata": {},
   "source": [
    "### Keyword Arguments"
   ]
  },
  {
   "cell_type": "code",
   "execution_count": null,
   "metadata": {
    "collapsed": false
   },
   "outputs": [],
   "source": [
    "def numop1(x,y,multiplier=1.0,greetings=\"Thank you for your inquiry.\"):\n",
    "    \"\"\" numop1 -- this does a simple operation on two numbers.\n",
    "     We expect x,y are numbers and return x + y times the multiplier\n",
    "     multiplier is also a number (a float is preferred) and is optional.\n",
    "    It defaults to 1.0.\n",
    "     You can also specify a small greeting as a string. \"\"\"\n",
    "    if greetings is not None:\n",
    "       print greetings\n",
    "    return (x + y)*multiplier"
   ]
  },
  {
   "cell_type": "code",
   "execution_count": null,
   "metadata": {
    "collapsed": false
   },
   "outputs": [],
   "source": [
    "help(numop1)"
   ]
  },
  {
   "cell_type": "code",
   "execution_count": null,
   "metadata": {
    "collapsed": false
   },
   "outputs": [],
   "source": [
    "numop1(1,1)"
   ]
  },
  {
   "cell_type": "code",
   "execution_count": null,
   "metadata": {
    "collapsed": false
   },
   "outputs": [],
   "source": [
    "numop1(1,1,multiplier=-0.5,greetings=None)"
   ]
  },
  {
   "cell_type": "markdown",
   "metadata": {},
   "source": [
    "### Unspecified args and keywords"
   ]
  },
  {
   "cell_type": "code",
   "execution_count": null,
   "metadata": {
    "collapsed": false
   },
   "outputs": [],
   "source": [
    "def cheeseshop(kind, *arguments, **keywords): \n",
    "    print \"-- Do you have any\", kind, \"?\"\n",
    "    print \"-- I'm sorry, we're all out of\", kind \n",
    "    for arg in arguments: \n",
    "        print arg\n",
    "    print \"-\" * 40\n",
    "    keys = keywords.keys()\n",
    "    keys.sort()\n",
    "    for kw in keys: \n",
    "        print kw, \":\", keywords[kw]"
   ]
  },
  {
   "cell_type": "code",
   "execution_count": null,
   "metadata": {
    "collapsed": false
   },
   "outputs": [],
   "source": [
    "cheeseshop(\"Limburger\", \n",
    "           \"It's very runny, sir.\", \n",
    "           \"It's really very, VERY runny, sir.\",\n",
    "           shopkeeper='Michael Palin',\n",
    "           client=\"John Cleese\",\n",
    "           sketch=\"Cheese Shop Sketch\")"
   ]
  },
  {
   "cell_type": "markdown",
   "metadata": {},
   "source": [
    "### What is a Module?"
   ]
  },
  {
   "cell_type": "markdown",
   "metadata": {},
   "source": [
    "<UL>\n",
    "<LI> A Python object with arbitrarily named attributes that you can bind and reference.\n",
    "<LI> A file consisting of Python code.\n",
    "<LI> Allows you to logically organize your Python code.\n",
    "<LI> Makes the code easier to understand and use.\n",
    "<LI> Can define functions, classes and variables. \n",
    "<LI> Can also include runnable code.\n",
    "</UL>\n",
    "<B> Any file ending in .py is treated as a module. </B>"
   ]
  },
  {
   "cell_type": "code",
   "execution_count": null,
   "metadata": {
    "collapsed": false
   },
   "outputs": [],
   "source": [
    "# %load \"numfun1.py\"\n",
    "#!/usr/env python\n",
    "\n",
    "\"\"\"\n",
    "small demo of modules\n",
    "\"\"\"\n",
    "def numop1(x,y,multiplier=1.0,greetings=\"Thank you for your inquiry.\"):\n",
    "    \"\"\" \n",
    "    numop1 -- this does a simple operation on two numbers.\n",
    "              We expect x,y are numbers and return x + y times the multiplier.\n",
    "              multiplier is also a number (a float is preferred) and is \n",
    "              optional. It defaults to 1.0.\n",
    "              You can also specify a small greeting as a string.\n",
    "    \"\"\" \n",
    "    if greetings is not None:\n",
    "       print greetings\n",
    "    return (x + y)*multiplier\n"
   ]
  },
  {
   "cell_type": "code",
   "execution_count": null,
   "metadata": {
    "collapsed": false
   },
   "outputs": [],
   "source": [
    "# %load \"numfun1.py\"\n",
    "#!/usr/env python\n",
    "\n",
    "\"\"\"\n",
    "small demo of modules\n",
    "\"\"\"\n",
    "def numop1(x,y,multiplier=1.0,greetings=\"Thank you for your inquiry.\"):\n",
    "    \"\"\" \n",
    "    numop1 -- this does a simple operation on two numbers.\n",
    "              We expect x,y are numbers and return x + y times the multiplier.\n",
    "              multiplier is also a number (a float is preferred) and is \n",
    "              optional. It defaults to 1.0.\n",
    "              You can also specify a small greeting as a string.\n",
    "    \"\"\" \n",
    "    if greetings is not None:\n",
    "       print greetings\n",
    "    return (x + y)*multiplier\n"
   ]
  },
  {
   "cell_type": "code",
   "execution_count": null,
   "metadata": {
    "collapsed": false
   },
   "outputs": [],
   "source": [
    "numfun1.numop1(2,3,2,greetings=None)"
   ]
  },
  {
   "cell_type": "code",
   "execution_count": null,
   "metadata": {
    "collapsed": false
   },
   "outputs": [],
   "source": [
    "numop1(2,3,2,greetings=None)"
   ]
  },
  {
   "cell_type": "code",
   "execution_count": null,
   "metadata": {
    "collapsed": false
   },
   "outputs": [],
   "source": [
    "# %load \"numfun2.py\"\n",
    "#!/usr/env python\n",
    "\n",
    "\"\"\"\n",
    "small demo of modules\n",
    "\"\"\"\n",
    "\n",
    "print \"numfun2 in the house\"\n",
    "x  = 2\n",
    "s  = \"spamm\"\n",
    "\n",
    "def numop2(x,y,multiplier=1.0,greetings=\"Thank you for your inquiry.\"):\n",
    "    \"\"\" \n",
    "    Purpose: does a simple operation on two numbers.\n",
    "\n",
    "    Input: We expect x,y are numbers\n",
    "           multiplier is also a number (a float is preferred) and is optional.\n",
    "           It defaults to 1.0. You can also specify a small greeting as a string.\n",
    "\n",
    "    Output: return x + y times the multiplier\n",
    "    \"\"\" \n",
    "    if greetings is not None:\n",
    "       print greetings\n",
    "    return (x + y)*multiplier\n"
   ]
  },
  {
   "cell_type": "code",
   "execution_count": null,
   "metadata": {
    "collapsed": false
   },
   "outputs": [],
   "source": []
  },
  {
   "cell_type": "code",
   "execution_count": null,
   "metadata": {
    "collapsed": false
   },
   "outputs": [],
   "source": [
    "print numfun2.x, numfun2.py"
   ]
  },
  {
   "cell_type": "code",
   "execution_count": null,
   "metadata": {
    "collapsed": false
   },
   "outputs": [],
   "source": [
    "s = \"eggs\"\n",
    "print s, numfun2.s"
   ]
  },
  {
   "cell_type": "code",
   "execution_count": null,
   "metadata": {
    "collapsed": false
   },
   "outputs": [],
   "source": [
    "numfun2.s = 'jack'\n",
    "print s, numfun2.s"
   ]
  },
  {
   "cell_type": "markdown",
   "metadata": {},
   "source": [
    "### Import Statements"
   ]
  },
  {
   "cell_type": "raw",
   "metadata": {},
   "source": [
    "from module_name import name as my_name\n",
    "from module_name import function_name \n",
    "from module_name import variable\n",
    "from module_name import variable, function_name1, function_name2, ...\n",
    "from module_name import *"
   ]
  },
  {
   "cell_type": "code",
   "execution_count": null,
   "metadata": {
    "collapsed": false
   },
   "outputs": [],
   "source": [
    "from numfun2 import x, numop2"
   ]
  },
  {
   "cell_type": "code",
   "execution_count": null,
   "metadata": {
    "collapsed": false
   },
   "outputs": [],
   "source": [
    "x == 2"
   ]
  },
  {
   "cell_type": "code",
   "execution_count": null,
   "metadata": {
    "collapsed": false
   },
   "outputs": [],
   "source": [
    "numop2(2,3,2,greetings=None)"
   ]
  },
  {
   "cell_type": "code",
   "execution_count": null,
   "metadata": {
    "collapsed": false
   },
   "outputs": [],
   "source": [
    "numfun2.s"
   ]
  },
  {
   "cell_type": "code",
   "execution_count": null,
   "metadata": {
    "collapsed": false
   },
   "outputs": [],
   "source": [
    "numfun2.x"
   ]
  },
  {
   "cell_type": "code",
   "execution_count": null,
   "metadata": {
    "collapsed": false
   },
   "outputs": [],
   "source": [
    "from numfun2 import s as my_fav_food\n",
    "from numfun2 import numop2 as awesome_adder"
   ]
  },
  {
   "cell_type": "code",
   "execution_count": null,
   "metadata": {
    "collapsed": false
   },
   "outputs": [],
   "source": [
    "print my_fav_food"
   ]
  },
  {
   "cell_type": "code",
   "execution_count": null,
   "metadata": {
    "collapsed": false
   },
   "outputs": [],
   "source": [
    "print numfun2.s"
   ]
  },
  {
   "cell_type": "code",
   "execution_count": null,
   "metadata": {
    "collapsed": false
   },
   "outputs": [],
   "source": [
    "awesome_adder(2,3,1)"
   ]
  },
  {
   "cell_type": "code",
   "execution_count": null,
   "metadata": {
    "collapsed": false
   },
   "outputs": [],
   "source": [
    "import numfun2"
   ]
  },
  {
   "cell_type": "code",
   "execution_count": null,
   "metadata": {
    "collapsed": false
   },
   "outputs": [],
   "source": [
    "from numfun2 import *"
   ]
  },
  {
   "cell_type": "code",
   "execution_count": null,
   "metadata": {
    "collapsed": false
   },
   "outputs": [],
   "source": [
    "from numfun2 import x"
   ]
  },
  {
   "cell_type": "markdown",
   "metadata": {},
   "source": [
    "### Built-In-Modules"
   ]
  },
  {
   "cell_type": "markdown",
   "metadata": {},
   "source": [
    "<UL>\n",
    "<LI> <B> sys:</B> exposes interpreter stuff & interactions\n",
    "<LI> <B> os:</B> exposes platform-specific OS functions\n",
    "<LI> <B> math:</B> basic mathematical functions & constants\n",
    "<LI> <B> argparse:</B> command line parser\n",
    "</UL>"
   ]
  },
  {
   "cell_type": "code",
   "execution_count": null,
   "metadata": {
    "collapsed": false
   },
   "outputs": [],
   "source": []
  },
  {
   "cell_type": "markdown",
   "metadata": {},
   "source": [
    "## Breakout Session: Exploring Some Modules"
   ]
  },
  {
   "cell_type": "markdown",
   "metadata": {},
   "source": [
    "<OL>\n",
    "<LI> Create and edit a new file called age.py\n",
    "<LI> Within age.py, import the datetime module\n",
    "     <UL>\n",
    "     <LI> use datetime.datetime() to create a variable representing when you were born\n",
    "     <LI> subtract the two, forming a new variable, which will be a datetime.timedelta() object. \n",
    "          Print that variable.\n",
    "          <OL>\n",
    "          <LI> How many days have you been alive? How many hours?\n",
    "          <LI> What will be the date in 1000 days from now?\n",
    "          </OL>\n",
    "     </UL>\n",
    "</OL>"
   ]
  },
  {
   "cell_type": "code",
   "execution_count": null,
   "metadata": {
    "collapsed": false
   },
   "outputs": [],
   "source": [
    "import datetime\n",
    "y = datetime.datetime.now()\n",
    "print y"
   ]
  },
  {
   "cell_type": "code",
   "execution_count": null,
   "metadata": {
    "collapsed": false
   },
   "outputs": [],
   "source": [
    "x = datetime.datetime(2016,6,13)\n",
    "y-x"
   ]
  },
  {
   "cell_type": "code",
   "execution_count": null,
   "metadata": {
    "collapsed": false
   },
   "outputs": [],
   "source": [
    "help(datetime)"
   ]
  },
  {
   "cell_type": "code",
   "execution_count": null,
   "metadata": {
    "collapsed": true
   },
   "outputs": [],
   "source": []
  }
 ],
 "metadata": {
  "kernelspec": {
   "display_name": "Python 2",
   "language": "python",
   "name": "python2"
  },
  "language_info": {
   "codemirror_mode": {
    "name": "ipython",
    "version": 2
   },
   "file_extension": ".py",
   "mimetype": "text/x-python",
   "name": "python",
   "nbconvert_exporter": "python",
   "pygments_lexer": "ipython2",
   "version": "2.7.11"
  }
 },
 "nbformat": 4,
 "nbformat_minor": 0
}
