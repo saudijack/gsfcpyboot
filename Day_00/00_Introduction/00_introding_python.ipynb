{
 "cells": [
  {
   "cell_type": "markdown",
   "metadata": {
    "slideshow": {
     "slide_type": "slide"
    }
   },
   "source": [
    "# Welcome to the UNF-Physics Python Boot Camp 2016\n",
    "![UNF ID](http://myhorseforum.com/attachments/unf_logo-png.192245/)\n",
    "![Python Logo](https://www.python.org/static/community_logos/python-logo-master-v3-TM-flattened.png)\n",
    "![UNF tagline](https://www.unf.edu/uploadedImages/ia/pr/marketing_publications/UNF_TAGLINE_PMS_BLUE.jpg)"
   ]
  },
  {
   "cell_type": "markdown",
   "metadata": {
    "slideshow": {
     "slide_type": "slide"
    }
   },
   "source": [
    "# Objectives\n",
    "* Introduce you to the Python language\n",
    "* Get you writing Python code. Build Python hacking muscle memory\n",
    "* Convince you of its utility in your research and academic life\n",
    "* Instill good coding and curation practices\n",
    "* We try not to proselytize, but sometimes it’s too hard to resist\n",
    "* This talk is a sacrificial talk designed to make sure you are ready to go."
   ]
  },
  {
   "cell_type": "markdown",
   "metadata": {
    "slideshow": {
     "slide_type": "slide"
    }
   },
   "source": [
    "# Organization\n",
    "\n",
    "* 3 days of modules (~1 hour) lectures + demos\n",
    "    * https://www.unf.edu/coas/physics/PythonBootCamp2016.aspx\n",
    "* Breakout coding sessions (supervised) after each module\n",
    "* Homework (small code projects)\n",
    "* Blood, sweat, tears → a more productive you"
   ]
  },
  {
   "cell_type": "markdown",
   "metadata": {
    "slideshow": {
     "slide_type": "slide"
    }
   },
   "source": [
    "# Introduction\n",
    "* What is Python?\n",
    "* Why Python?\n",
    "* Getting Started..."
   ]
  },
  {
   "cell_type": "markdown",
   "metadata": {
    "slideshow": {
     "slide_type": "slide"
    }
   },
   "source": [
    "# What is Python?\n",
    "\n",
    ">Python is an interpreted, object-oriented, high-level programming language with dynamic semantics. Its high-level built in data structures, combined with dynamic typing and dynamic binding, make it very attractive for Rapid Application Development, as well as for use as a scripting or glue language to connect existing components together. Python's simple, easy to learn syntax emphasizes readability and therefore reduces the cost of program maintenance. Python supports modules and packages, which encourages program modularity and code reuse. The Python interpreter and the extensive standard library are available in source or binary form without charge for all major platforms, and can be freely distributed.\n",
    "\n",
    "https://www.python.org/doc/essays/blurb/"
   ]
  },
  {
   "cell_type": "markdown",
   "metadata": {
    "slideshow": {
     "slide_type": "subslide"
    }
   },
   "source": [
    "# What is Python?\n",
    "<table>\n",
    "    <tr style=\"border-color: white;\">\n",
    "        <td style=\"border-color: white;\">interpreted</td>\n",
    "        <td style=\"border-color: white;\">no need for a compiling stage</td>\n",
    "    </tr>\n",
    "    <tr style=\"background-color: #D8D8D8; border-color: white;\">\n",
    "        <td style=\"border-color: white;\">object-oriented</td>\n",
    "        <td style=\"border-color: white;\">programming paradigm that uses objects (complex data structures with methods)</td>\n",
    "    </tr>\n",
    "    <tr style=\"border-color: white;\">\n",
    "        <td style=\"border-color: white;\">high level</td>\n",
    "        <td style=\"border-color: white;\">abstraction from the way machine interprets & executes</td>\n",
    "    </tr>\n",
    "    <tr style=\"background-color: #D8D8D8; border-color: white;\">\n",
    "        <td style=\"border-color: white;\">dynamic semantics</td>\n",
    "        <td style=\"border-color: white;\">can change meaning on-the-fly</td>\n",
    "    </tr>\n",
    "    <tr style=\"border-color: white;\">\n",
    "        <td style=\"border-color: white;\">built in</td>\n",
    "        <td style=\"border-color: white;\">core language (not external)</td>\n",
    "    </tr>\n",
    "    <tr style=\"background-color: #D8D8D8; border-color: white;\">\n",
    "        <td style=\"border-color: white;\">data structures</td>\n",
    "        <td style=\"border-color: white;\">ways of storing/manipulating data</td>\n",
    "    </tr>\n",
    "    <tr style=\"border-color: white;\">\n",
    "        <td style=\"border-color: white;\">script/glue</td>\n",
    "        <td style=\"border-color: white;\">programs that control other programs</td>\n",
    "    </tr>\n",
    "    <tr style=\"background-color: #D8D8D8; border-color: white;\">\n",
    "        <td style=\"border-color: white;\">typing</td>\n",
    "        <td style=\"border-color: white;\">the sort of variable (int, string)</td>\n",
    "    </tr>\n",
    "    <tr style=\"border-color: white;\">\n",
    "        <td style=\"border-color: white;\">syntax</td>\n",
    "        <td style=\"border-color: white;\">grammar which defines the language</td>\n",
    "    </tr>\n",
    "    <tr style=\"background-color: #D8D8D8; border-color: white;\">\n",
    "        <td style=\"border-color: white;\">library</td>\n",
    "        <td style=\"border-color: white;\">reusable collection of code</td>\n",
    "    </tr>\n",
    "    <tr style=\"border-color: white;\">\n",
    "        <td style=\"border-color: white;\">binary</td>\n",
    "        <td style=\"border-color: white;\">a file that you can run/execute</td>\n",
    "    </tr>\n",
    "</table>"
   ]
  },
  {
   "cell_type": "markdown",
   "metadata": {
    "slideshow": {
     "slide_type": "subslide"
    }
   },
   "source": [
    "# Development History\n",
    "\n",
    "<table>\n",
    "    <tr style=\"border-color: white;\">\n",
    "    <td style=\"border-color: white;\"><img src=\"https://www.python.org/~guido/images/IMG_2192.jpg\"/>\n",
    "    </td>\n",
    "    <td style=\"border-color: white;\">\n",
    "        <ul>\n",
    "            <li>started over the Christmas break 1989, by Guido van Rossum (now at Dropbox)\n",
    "            <li>developed in the early 1990s\n",
    "            <li>name comes from Monty Python’s Flying Circus\n",
    "            <li>Guido is the Benevolent Dictator for Life (BDFL), meaning that he continues to oversee Python’s development.\n",
    "        </ul>\n",
    "    </td>\n",
    "    </tr>\n",
    "</table>"
   ]
  },
  {
   "cell_type": "markdown",
   "metadata": {
    "slideshow": {
     "slide_type": "slide"
    }
   },
   "source": [
    "# Why Python?\n",
    "* **Free** (BSD license), highly portable (Linux, OSX, Windows, lots...)\n",
    "* **Interactive** interpreter provided.\n",
    "* Extremely readable syntax (**“executable pseudo-code”**). \n",
    "* **Simple**: non-professional programmers can use it effectively\n",
    "    * great documentation\n",
    "    * total abstraction of memory management \n",
    "* Clean object-oriented model, but **not mandatory**.\n",
    "* Rich built-in types: lists, sets, dictionaries (hash tables), strings, ... \n",
    "* Very comprehensive standard library (**batteries included**) \n",
    "* Standard libraries for IDL/Matlab-like arrays (NumPy)\n",
    "* Easy to wrap existing C, C++ and FORTRAN codes.\n",
    "\n",
    "## Amazingly Scalable\n",
    "* Interactive experimentation \n",
    "* build small, self-contained scripts or million-lines projects. \n",
    "* From occasional/novice to full-time use (try that with C++).\n",
    "\n",
    "## The Kitchen Sink (in a good way)\n",
    "* really can do anything you want, with impressive simplicity\n",
    "\n",
    "## Performance, if you need it\n",
    "* As an interpreted language, Python is slow.\n",
    "* But...if you need speed you can do the heavy lifting in C or FORTRAN <br/>...or you can use a Python compiler (e.g., Cython) "
   ]
  },
  {
   "cell_type": "markdown",
   "metadata": {
    "slideshow": {
     "slide_type": "subslide"
    }
   },
   "source": [
    "# What I Use Python For\n",
    "\n",
    "(I was forced into using python...)\n",
    "\n",
    "* Interface to the low-level (c++) code - Interactive data analysis\n",
    "* Scripting\n",
    "* Developing new analysis techniques\n",
    "* Adding features to static code quickly\n",
    "* Providing high-level analysis tools (light-curve generation, SED generation, statistical testing, simulation development and so on and so forth)\n",
    "* Science Validation and Testing\n",
    "\n",
    "* A comprehensive data analysis framework for Astronomy\n",
    "    * processing FITS images quickly\n",
    "    * wrapping around 3rd party software\n",
    "* A Handy & Quick Calculator\n",
    "* Prototyping new algorithms/ideas\n",
    "* Making plots for papers\n",
    "* Notebooking (i.e. making me remember stuff)\n",
    "    * see the iPython sessions later\n",
    "* Writing Presentations (these slides)"
   ]
  },
  {
   "cell_type": "markdown",
   "metadata": {
    "slideshow": {
     "slide_type": "subslide"
    }
   },
   "source": [
    "# Python is everywhere\n",
    "\n",
    "https://wiki.python.org/moin/OrganizationsUsingPython\n",
    "\n",
    "# Applications are Numerous\n",
    "\n",
    "* Scripting and Programing\n",
    "* GUI's\n",
    "* Web Development\n",
    "* Interactive Notebooks (see later)\n",
    "* Visualization\n",
    "* Parralelization\n",
    "* Animation\n",
    "* And so on..."
   ]
  },
  {
   "cell_type": "markdown",
   "metadata": {
    "slideshow": {
     "slide_type": "slide"
    }
   },
   "source": [
    "# Getting Started\n",
    "\n",
    "* The goal of the end of this talk is to make sure that you can\n",
    "    * Start-up Python\n",
    "    * Edit a text file\n",
    "    * (start up the notebook)"
   ]
  },
  {
   "cell_type": "markdown",
   "metadata": {
    "slideshow": {
     "slide_type": "subslide"
    }
   },
   "source": [
    "# Ask questions at any time \n",
    "\n",
    "* Just speak up or raise your hand\n",
    "\n",
    "# Get help at any time\n",
    "\n",
    "* We are wandering around the room \n",
    "* Just get our attention\n",
    "\n",
    "**It's important to not flail around and fall behind.**"
   ]
  },
  {
   "cell_type": "markdown",
   "metadata": {
    "slideshow": {
     "slide_type": "slide"
    }
   },
   "source": [
    "# Last Thing: The Notebook\n",
    "\n",
    "* The iPython Notebook is a powerful tool\n",
    "* You **will** want to use it.\n",
    "* To start it up from the terminal type\n",
    "\n",
    "`jupyter notebook`\n",
    "\n",
    "and a browser window should open that looks like this\n",
    "\n",
    "![notebook](https://raw.githubusercontent.com/kialio/python-bootcamp/master/Lectures/00_Introduction/iPython_Notebook.png)\n"
   ]
  },
  {
   "cell_type": "markdown",
   "metadata": {
    "slideshow": {
     "slide_type": "subslide"
    }
   },
   "source": [
    "#iPython on an iPad\n",
    "![iOS notebook](https://raw.githubusercontent.com/kialio/python-bootcamp/master/Lectures/00_Introduction/ipython_iOS.png)\n"
   ]
  },
  {
   "cell_type": "markdown",
   "metadata": {
    "slideshow": {
     "slide_type": "subslide"
    }
   },
   "source": [
    "# The Notebook in Windows with Anaconda\n",
    "\n",
    "## Start -> All Programs -> Anaconda -> iPython Notebook\n"
   ]
  },
  {
   "cell_type": "code",
   "execution_count": 1,
   "metadata": {
    "collapsed": false,
    "slideshow": {
     "slide_type": "slide"
    }
   },
   "outputs": [],
   "source": [
    "from matplotlib import pyplot as plt\n",
    "import numpy as np\n",
    "%matplotlib inline"
   ]
  },
  {
   "cell_type": "code",
   "execution_count": 2,
   "metadata": {
    "collapsed": false,
    "slideshow": {
     "slide_type": "fragment"
    }
   },
   "outputs": [
    {
     "data": {
      "image/png": "[encoded data removed]",
      "text/plain": [
       "<matplotlib.figure.Figure at 0x105966150>"
      ]
     },
     "metadata": {},
     "output_type": "display_data"
    }
   ],
   "source": [
    "plt.xkcd()\n",
    "plt.figure(figsize=(16,8))\n",
    "x = np.arange(10)\n",
    "plt.plot(x,x+0.5*x*x)\n",
    "plt.xlabel('Years Since Release')\n",
    "plt.ylabel('Interest in Python')\n",
    "plt.show()"
   ]
  },
  {
   "cell_type": "code",
   "execution_count": 3,
   "metadata": {
    "collapsed": true,
    "slideshow": {
     "slide_type": "fragment"
    }
   },
   "outputs": [],
   "source": [
    "import antigravity"
   ]
  },
  {
   "cell_type": "markdown",
   "metadata": {
    "slideshow": {
     "slide_type": "fragment"
    }
   },
   "source": [
    "## Also, remember:\n",
    "\n",
    "**[All Code is Bad so Don't Stress if Yours Sucks](http://lifehacker.com/all-code-is-bad-so-dont-stress-if-yours-sucks-1569821801)**"
   ]
  },
  {
   "cell_type": "markdown",
   "metadata": {
    "slideshow": {
     "slide_type": "fragment"
    }
   },
   "source": [
    "## How I made this talk\n",
    "\n",
    "> ipython nbconvert 00_introding_python.ipynb --to slides --post serve"
   ]
  }
 ],
 "metadata": {
  "celltoolbar": "Slideshow",
  "kernelspec": {
   "display_name": "Python 2",
   "language": "python",
   "name": "python2"
  },
  "language_info": {
   "codemirror_mode": {
    "name": "ipython",
    "version": 2
   },
   "file_extension": ".py",
   "mimetype": "text/x-python",
   "name": "python",
   "nbconvert_exporter": "python",
   "pygments_lexer": "ipython2",
   "version": "2.7.11"
  }
 },
 "nbformat": 4,
 "nbformat_minor": 0
}
